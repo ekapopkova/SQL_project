{
 "cells": [
  {
   "cell_type": "markdown",
   "metadata": {
    "id": "sRW85nPMDWKb"
   },
   "source": [
    "## Проект SQL\n",
    "\n",
    "В этой проекте вам нужно написать несколько SQL-запросов в Jupyter Notebook. Эти задания проверят вручную, и вы получите комментарии к составленным запросам. \n",
    "\n",
    "Необходимые данные находятся в таблицах схемы `stackoverflow`. Не забудьте подключиться к базе с помощью SQLAlchemy. \n",
    "\n",
    "Некоторые задания включают дополнительные вопросы — не пропустите их. На часть вопросов можно ответить текстом, а для некоторых понадобится визуализация. Помните, что результат запроса можно выгрузить в датафрейм. \n",
    "\n",
    "Чтобы ожидаемый результат было легче представить, мы добавили к каждому заданию небольшой фрагмент итоговой таблицы. В запросах вы можете использовать любые подходящие названия полей."
   ]
  },
  {
   "cell_type": "code",
   "execution_count": 1,
   "metadata": {
    "id": "nlZBlglMDWKe"
   },
   "outputs": [],
   "source": [
    "import pandas as pd\n",
    "import seaborn as sns\n",
    "import matplotlib.pyplot as plt\n",
    "from sqlalchemy import create_engine "
   ]
  },
  {
   "cell_type": "markdown",
   "metadata": {
    "id": "XnOE3n28DWKg"
   },
   "source": [
    "### Конфигурация для подключения к базе данных `data-analyst-advanced-sql`\n",
    "Эта база данных содержит схему `stackoverflow`, с которой вы будете работать в проекте"
   ]
  },
  {
   "cell_type": "code",
   "execution_count": 2,
   "metadata": {
    "id": "6p-yGp7qDWKg"
   },
   "outputs": [],
   "source": [
    "db_config = {\n",
    "    'user': 'praktikum_student', # имя пользователя\n",
    "    'pwd': 'Sdf4$2;d-d30pp', # пароль\n",
    "    'host': 'rc1b-wcoijxj3yxfsf3fs.mdb.yandexcloud.net',\n",
    "    'port': 6432, # порт подключения\n",
    "    'db': 'data-analyst-advanced-sql' # название базы данных\n",
    "}  \n",
    "\n",
    "connection_string = 'postgresql://{}:{}@{}:{}/{}'.format(\n",
    "    db_config['user'],\n",
    "    db_config['pwd'],\n",
    "    db_config['host'],\n",
    "    db_config['port'],\n",
    "    db_config['db'],\n",
    ")"
   ]
  },
  {
   "cell_type": "markdown",
   "metadata": {
    "id": "2Rg8ZpS0DWKh"
   },
   "source": [
    "Создание подключения"
   ]
  },
  {
   "cell_type": "code",
   "execution_count": 3,
   "metadata": {
    "id": "DamCUTR6DWKi"
   },
   "outputs": [],
   "source": [
    "engine = create_engine(connection_string) "
   ]
  },
  {
   "cell_type": "markdown",
   "metadata": {
    "id": "bel8XeSlDWKj"
   },
   "source": [
    "Пример запроса к базе данных\n",
    "\n",
    "`sample_df` является pandas-датафреймом."
   ]
  },
  {
   "cell_type": "code",
   "execution_count": 4,
   "metadata": {
    "id": "6Z_fw0yLDWKk"
   },
   "outputs": [],
   "source": [
    "query = '''\n",
    "SELECT *\n",
    "FROM stackoverflow.users\n",
    "LIMIT 10;\n",
    "'''\n",
    "\n",
    "sample_df = pd.read_sql_query(query, con=engine) "
   ]
  },
  {
   "cell_type": "code",
   "execution_count": 5,
   "metadata": {
    "id": "ZpuZ290oDWKk",
    "outputId": "22785a0a-e2bc-4559-ec3c-4879c4b377eb"
   },
   "outputs": [
    {
     "data": {
      "text/html": [
       "<div>\n",
       "<style scoped>\n",
       "    .dataframe tbody tr th:only-of-type {\n",
       "        vertical-align: middle;\n",
       "    }\n",
       "\n",
       "    .dataframe tbody tr th {\n",
       "        vertical-align: top;\n",
       "    }\n",
       "\n",
       "    .dataframe thead th {\n",
       "        text-align: right;\n",
       "    }\n",
       "</style>\n",
       "<table border=\"1\" class=\"dataframe\">\n",
       "  <thead>\n",
       "    <tr style=\"text-align: right;\">\n",
       "      <th></th>\n",
       "      <th>id</th>\n",
       "      <th>creation_date</th>\n",
       "      <th>display_name</th>\n",
       "      <th>last_access_date</th>\n",
       "      <th>location</th>\n",
       "      <th>reputation</th>\n",
       "      <th>views</th>\n",
       "    </tr>\n",
       "  </thead>\n",
       "  <tbody>\n",
       "    <tr>\n",
       "      <th>0</th>\n",
       "      <td>1</td>\n",
       "      <td>2008-07-31 14:22:31</td>\n",
       "      <td>Jeff Atwood</td>\n",
       "      <td>2018-08-29 02:34:23</td>\n",
       "      <td>El Cerrito, CA</td>\n",
       "      <td>44300</td>\n",
       "      <td>408587</td>\n",
       "    </tr>\n",
       "    <tr>\n",
       "      <th>1</th>\n",
       "      <td>2</td>\n",
       "      <td>2008-07-31 14:22:31</td>\n",
       "      <td>Geoff Dalgas</td>\n",
       "      <td>2018-08-23 17:31:56</td>\n",
       "      <td>Corvallis, OR</td>\n",
       "      <td>3491</td>\n",
       "      <td>23966</td>\n",
       "    </tr>\n",
       "    <tr>\n",
       "      <th>2</th>\n",
       "      <td>3</td>\n",
       "      <td>2008-07-31 14:22:31</td>\n",
       "      <td>Jarrod Dixon</td>\n",
       "      <td>2018-08-30 20:56:24</td>\n",
       "      <td>Raleigh, NC, United States</td>\n",
       "      <td>13418</td>\n",
       "      <td>24396</td>\n",
       "    </tr>\n",
       "    <tr>\n",
       "      <th>3</th>\n",
       "      <td>4</td>\n",
       "      <td>2008-07-31 14:22:31</td>\n",
       "      <td>Joel Spolsky</td>\n",
       "      <td>2018-08-14 22:18:15</td>\n",
       "      <td>New York, NY</td>\n",
       "      <td>28768</td>\n",
       "      <td>73755</td>\n",
       "    </tr>\n",
       "    <tr>\n",
       "      <th>4</th>\n",
       "      <td>5</td>\n",
       "      <td>2008-07-31 14:22:31</td>\n",
       "      <td>Jon Galloway</td>\n",
       "      <td>2018-08-29 16:48:36</td>\n",
       "      <td>San Diego, CA</td>\n",
       "      <td>39172</td>\n",
       "      <td>11700</td>\n",
       "    </tr>\n",
       "    <tr>\n",
       "      <th>5</th>\n",
       "      <td>8</td>\n",
       "      <td>2008-07-31 21:33:24</td>\n",
       "      <td>Eggs McLaren</td>\n",
       "      <td>2018-04-09 02:04:56</td>\n",
       "      <td>None</td>\n",
       "      <td>942</td>\n",
       "      <td>6372</td>\n",
       "    </tr>\n",
       "    <tr>\n",
       "      <th>6</th>\n",
       "      <td>9</td>\n",
       "      <td>2008-07-31 21:35:27</td>\n",
       "      <td>Kevin Dente</td>\n",
       "      <td>2018-08-30 18:18:03</td>\n",
       "      <td>Oakland, CA</td>\n",
       "      <td>14337</td>\n",
       "      <td>4949</td>\n",
       "    </tr>\n",
       "    <tr>\n",
       "      <th>7</th>\n",
       "      <td>11</td>\n",
       "      <td>2008-08-01 00:59:11</td>\n",
       "      <td>Anonymous User</td>\n",
       "      <td>2008-08-01 00:59:11</td>\n",
       "      <td>None</td>\n",
       "      <td>1890</td>\n",
       "      <td>2123</td>\n",
       "    </tr>\n",
       "    <tr>\n",
       "      <th>8</th>\n",
       "      <td>13</td>\n",
       "      <td>2008-08-01 04:18:05</td>\n",
       "      <td>Chris Jester-Young</td>\n",
       "      <td>2018-08-30 02:47:23</td>\n",
       "      <td>Raleigh, NC, United States</td>\n",
       "      <td>177138</td>\n",
       "      <td>35414</td>\n",
       "    </tr>\n",
       "    <tr>\n",
       "      <th>9</th>\n",
       "      <td>17</td>\n",
       "      <td>2008-08-01 12:02:22</td>\n",
       "      <td>Nick Berardi</td>\n",
       "      <td>2018-01-22 01:35:38</td>\n",
       "      <td>Issaquah, WA</td>\n",
       "      <td>44443</td>\n",
       "      <td>4786</td>\n",
       "    </tr>\n",
       "  </tbody>\n",
       "</table>\n",
       "</div>"
      ],
      "text/plain": [
       "   id       creation_date        display_name    last_access_date  \\\n",
       "0   1 2008-07-31 14:22:31         Jeff Atwood 2018-08-29 02:34:23   \n",
       "1   2 2008-07-31 14:22:31        Geoff Dalgas 2018-08-23 17:31:56   \n",
       "2   3 2008-07-31 14:22:31        Jarrod Dixon 2018-08-30 20:56:24   \n",
       "3   4 2008-07-31 14:22:31        Joel Spolsky 2018-08-14 22:18:15   \n",
       "4   5 2008-07-31 14:22:31        Jon Galloway 2018-08-29 16:48:36   \n",
       "5   8 2008-07-31 21:33:24        Eggs McLaren 2018-04-09 02:04:56   \n",
       "6   9 2008-07-31 21:35:27         Kevin Dente 2018-08-30 18:18:03   \n",
       "7  11 2008-08-01 00:59:11      Anonymous User 2008-08-01 00:59:11   \n",
       "8  13 2008-08-01 04:18:05  Chris Jester-Young 2018-08-30 02:47:23   \n",
       "9  17 2008-08-01 12:02:22        Nick Berardi 2018-01-22 01:35:38   \n",
       "\n",
       "                     location  reputation   views  \n",
       "0              El Cerrito, CA       44300  408587  \n",
       "1               Corvallis, OR        3491   23966  \n",
       "2  Raleigh, NC, United States       13418   24396  \n",
       "3                New York, NY       28768   73755  \n",
       "4               San Diego, CA       39172   11700  \n",
       "5                        None         942    6372  \n",
       "6                 Oakland, CA       14337    4949  \n",
       "7                        None        1890    2123  \n",
       "8  Raleigh, NC, United States      177138   35414  \n",
       "9                Issaquah, WA       44443    4786  "
      ]
     },
     "execution_count": 5,
     "metadata": {},
     "output_type": "execute_result"
    }
   ],
   "source": [
    "sample_df"
   ]
  },
  {
   "cell_type": "markdown",
   "metadata": {
    "id": "gnBMXkDBDWKm"
   },
   "source": [
    "# Задание 1"
   ]
  },
  {
   "cell_type": "markdown",
   "metadata": {
    "id": "vHsfOrrNDWKn"
   },
   "source": [
    "Выведите общую сумму просмотров постов за каждый месяц 2008 года. Если данных за какой-либо месяц в базе нет, такой месяц можно пропустить. Результат отсортируйте по убыванию общего количества просмотров."
   ]
  },
  {
   "cell_type": "markdown",
   "metadata": {
    "id": "N5rTgGNmDWKn"
   },
   "source": [
    "| month_date  | total_views |\n",
    "| ------------- | ------------- |\n",
    "| 2008-09-01  | 452928568  |\n",
    "| 2008-10-01  | 365400138  |\n",
    "| ...         | ... |"
   ]
  },
  {
   "cell_type": "code",
   "execution_count": 6,
   "metadata": {
    "id": "eWvykcXTDWKo"
   },
   "outputs": [
    {
     "data": {
      "text/html": [
       "<style  type=\"text/css\" >\n",
       "</style><table id=\"T_6b153_\" ><thead>    <tr>        <th class=\"col_heading level0 col0\" >month_date</th>        <th class=\"col_heading level0 col1\" >total_views</th>    </tr></thead><tbody>\n",
       "                <tr>\n",
       "                                <td id=\"T_6b153_row0_col0\" class=\"data row0 col0\" >2008-09-01</td>\n",
       "                        <td id=\"T_6b153_row0_col1\" class=\"data row0 col1\" >452928568</td>\n",
       "            </tr>\n",
       "            <tr>\n",
       "                                <td id=\"T_6b153_row1_col0\" class=\"data row1 col0\" >2008-10-01</td>\n",
       "                        <td id=\"T_6b153_row1_col1\" class=\"data row1 col1\" >365400138</td>\n",
       "            </tr>\n",
       "            <tr>\n",
       "                                <td id=\"T_6b153_row2_col0\" class=\"data row2 col0\" >2008-11-01</td>\n",
       "                        <td id=\"T_6b153_row2_col1\" class=\"data row2 col1\" >221759651</td>\n",
       "            </tr>\n",
       "            <tr>\n",
       "                                <td id=\"T_6b153_row3_col0\" class=\"data row3 col0\" >2008-12-01</td>\n",
       "                        <td id=\"T_6b153_row3_col1\" class=\"data row3 col1\" >197792841</td>\n",
       "            </tr>\n",
       "            <tr>\n",
       "                                <td id=\"T_6b153_row4_col0\" class=\"data row4 col0\" >2008-08-01</td>\n",
       "                        <td id=\"T_6b153_row4_col1\" class=\"data row4 col1\" >131367083</td>\n",
       "            </tr>\n",
       "            <tr>\n",
       "                                <td id=\"T_6b153_row5_col0\" class=\"data row5 col0\" >2008-07-01</td>\n",
       "                        <td id=\"T_6b153_row5_col1\" class=\"data row5 col1\" >669895</td>\n",
       "            </tr>\n",
       "    </tbody></table>"
      ],
      "text/plain": [
       "<pandas.io.formats.style.Styler at 0x7fe7f8f82700>"
      ]
     },
     "execution_count": 6,
     "metadata": {},
     "output_type": "execute_result"
    }
   ],
   "source": [
    "# напишите запрос\n",
    "query = '''\n",
    "SELECT DATE_TRUNC('month', creation_date)::date AS month_date,\n",
    "       SUM(views_count) AS total_views\n",
    "FROM stackoverflow.posts\n",
    "WHERE creation_date::date BETWEEN '2008-01-01' AND '2008-12-31'\n",
    "GROUP BY month_date\n",
    "ORDER BY total_views DESC;\n",
    "'''\n",
    "\n",
    "# выполните запрос\n",
    "sample_df_1 = pd.read_sql_query(query, con=engine) \n",
    "sample_df_1.style.hide_index()"
   ]
  },
  {
   "cell_type": "markdown",
   "metadata": {
    "id": "I_ZvhOxkDWKp"
   },
   "source": [
    "Проанализируйте итоговую таблицу. Отличаются ли данные за разные месяцы? С чем могут быть связаны отличия?"
   ]
  },
  {
   "cell_type": "markdown",
   "metadata": {
    "id": "luxSj17oDWKq"
   },
   "source": [
    "**Вывод:** Самое маленькое количество запросов в июле 2008 года, скорее всего оно связано со началом публичной работы сайта, веротнее всего сайт начал работу не с начала месяца. Далее сайт набирал популярность и это вызвало увеличением количества просмотров, пик наблюдается в сентябре. Дальнейшее падение количества просмотров может быть связано с тем, что на многие вопросы ответы были получены и вопросов стало меньше."
   ]
  },
  {
   "cell_type": "markdown",
   "metadata": {
    "id": "FziIXkn5DWKr"
   },
   "source": [
    "# Задание 2"
   ]
  },
  {
   "cell_type": "markdown",
   "metadata": {
    "id": "fTGESZvYDWKr"
   },
   "source": [
    "Выведите имена самых активных пользователей, которые в первый месяц после регистрации (включая день регистрации) дали больше 100 ответов. Вопросы, которые задавали пользователи, не учитывайте. Для каждого имени пользователя выведите количество уникальных значений `user_id`. Отсортируйте результат по полю с именами в лексикографическом порядке."
   ]
  },
  {
   "cell_type": "markdown",
   "metadata": {
    "id": "W5-tv6Y3DWKs"
   },
   "source": [
    "| display_name | count |\n",
    "| ------------ | ----- |\n",
    "| 1800 INFORMATION | 1 |\n",
    "| Adam Bellaire | 1 |\n",
    "| Adam Davis | 1 |\n",
    "| ... | ... |"
   ]
  },
  {
   "cell_type": "code",
   "execution_count": 7,
   "metadata": {
    "id": "fIO-y-YjDWKt",
    "scrolled": true
   },
   "outputs": [
    {
     "data": {
      "text/html": [
       "<style  type=\"text/css\" >\n",
       "</style><table id=\"T_7dbfd_\" ><thead>    <tr>        <th class=\"col_heading level0 col0\" >display_name</th>        <th class=\"col_heading level0 col1\" >count</th>    </tr></thead><tbody>\n",
       "                <tr>\n",
       "                                <td id=\"T_7dbfd_row0_col0\" class=\"data row0 col0\" >1800 INFORMATION</td>\n",
       "                        <td id=\"T_7dbfd_row0_col1\" class=\"data row0 col1\" >1</td>\n",
       "            </tr>\n",
       "            <tr>\n",
       "                                <td id=\"T_7dbfd_row1_col0\" class=\"data row1 col0\" >Adam Bellaire</td>\n",
       "                        <td id=\"T_7dbfd_row1_col1\" class=\"data row1 col1\" >1</td>\n",
       "            </tr>\n",
       "            <tr>\n",
       "                                <td id=\"T_7dbfd_row2_col0\" class=\"data row2 col0\" >Adam Davis</td>\n",
       "                        <td id=\"T_7dbfd_row2_col1\" class=\"data row2 col1\" >1</td>\n",
       "            </tr>\n",
       "            <tr>\n",
       "                                <td id=\"T_7dbfd_row3_col0\" class=\"data row3 col0\" >Adam Liss</td>\n",
       "                        <td id=\"T_7dbfd_row3_col1\" class=\"data row3 col1\" >1</td>\n",
       "            </tr>\n",
       "            <tr>\n",
       "                                <td id=\"T_7dbfd_row4_col0\" class=\"data row4 col0\" >Alan</td>\n",
       "                        <td id=\"T_7dbfd_row4_col1\" class=\"data row4 col1\" >8</td>\n",
       "            </tr>\n",
       "            <tr>\n",
       "                                <td id=\"T_7dbfd_row5_col0\" class=\"data row5 col0\" >Amy B</td>\n",
       "                        <td id=\"T_7dbfd_row5_col1\" class=\"data row5 col1\" >1</td>\n",
       "            </tr>\n",
       "            <tr>\n",
       "                                <td id=\"T_7dbfd_row6_col0\" class=\"data row6 col0\" >Ben Hoffstein</td>\n",
       "                        <td id=\"T_7dbfd_row6_col1\" class=\"data row6 col1\" >1</td>\n",
       "            </tr>\n",
       "            <tr>\n",
       "                                <td id=\"T_7dbfd_row7_col0\" class=\"data row7 col0\" >Brian</td>\n",
       "                        <td id=\"T_7dbfd_row7_col1\" class=\"data row7 col1\" >15</td>\n",
       "            </tr>\n",
       "            <tr>\n",
       "                                <td id=\"T_7dbfd_row8_col0\" class=\"data row8 col0\" >Cade Roux</td>\n",
       "                        <td id=\"T_7dbfd_row8_col1\" class=\"data row8 col1\" >1</td>\n",
       "            </tr>\n",
       "            <tr>\n",
       "                                <td id=\"T_7dbfd_row9_col0\" class=\"data row9 col0\" >CesarB</td>\n",
       "                        <td id=\"T_7dbfd_row9_col1\" class=\"data row9 col1\" >1</td>\n",
       "            </tr>\n",
       "            <tr>\n",
       "                                <td id=\"T_7dbfd_row10_col0\" class=\"data row10 col0\" >Chris</td>\n",
       "                        <td id=\"T_7dbfd_row10_col1\" class=\"data row10 col1\" >29</td>\n",
       "            </tr>\n",
       "            <tr>\n",
       "                                <td id=\"T_7dbfd_row11_col0\" class=\"data row11 col0\" >ConcernedOfTunbridgeWells</td>\n",
       "                        <td id=\"T_7dbfd_row11_col1\" class=\"data row11 col1\" >1</td>\n",
       "            </tr>\n",
       "            <tr>\n",
       "                                <td id=\"T_7dbfd_row12_col0\" class=\"data row12 col0\" >Craig</td>\n",
       "                        <td id=\"T_7dbfd_row12_col1\" class=\"data row12 col1\" >10</td>\n",
       "            </tr>\n",
       "            <tr>\n",
       "                                <td id=\"T_7dbfd_row13_col0\" class=\"data row13 col0\" >Dale Ragan</td>\n",
       "                        <td id=\"T_7dbfd_row13_col1\" class=\"data row13 col1\" >1</td>\n",
       "            </tr>\n",
       "            <tr>\n",
       "                                <td id=\"T_7dbfd_row14_col0\" class=\"data row14 col0\" >Dan</td>\n",
       "                        <td id=\"T_7dbfd_row14_col1\" class=\"data row14 col1\" >21</td>\n",
       "            </tr>\n",
       "            <tr>\n",
       "                                <td id=\"T_7dbfd_row15_col0\" class=\"data row15 col0\" >Eric Z Beard</td>\n",
       "                        <td id=\"T_7dbfd_row15_col1\" class=\"data row15 col1\" >1</td>\n",
       "            </tr>\n",
       "            <tr>\n",
       "                                <td id=\"T_7dbfd_row16_col0\" class=\"data row16 col0\" >Espo</td>\n",
       "                        <td id=\"T_7dbfd_row16_col1\" class=\"data row16 col1\" >1</td>\n",
       "            </tr>\n",
       "            <tr>\n",
       "                                <td id=\"T_7dbfd_row17_col0\" class=\"data row17 col0\" >FlySwat</td>\n",
       "                        <td id=\"T_7dbfd_row17_col1\" class=\"data row17 col1\" >1</td>\n",
       "            </tr>\n",
       "            <tr>\n",
       "                                <td id=\"T_7dbfd_row18_col0\" class=\"data row18 col0\" >Franci Penov</td>\n",
       "                        <td id=\"T_7dbfd_row18_col1\" class=\"data row18 col1\" >1</td>\n",
       "            </tr>\n",
       "            <tr>\n",
       "                                <td id=\"T_7dbfd_row19_col0\" class=\"data row19 col0\" >GEOCHET</td>\n",
       "                        <td id=\"T_7dbfd_row19_col1\" class=\"data row19 col1\" >1</td>\n",
       "            </tr>\n",
       "            <tr>\n",
       "                                <td id=\"T_7dbfd_row20_col0\" class=\"data row20 col0\" >GateKiller</td>\n",
       "                        <td id=\"T_7dbfd_row20_col1\" class=\"data row20 col1\" >1</td>\n",
       "            </tr>\n",
       "            <tr>\n",
       "                                <td id=\"T_7dbfd_row21_col0\" class=\"data row21 col0\" >Greg</td>\n",
       "                        <td id=\"T_7dbfd_row21_col1\" class=\"data row21 col1\" >12</td>\n",
       "            </tr>\n",
       "            <tr>\n",
       "                                <td id=\"T_7dbfd_row22_col0\" class=\"data row22 col0\" >Gulzar Nazim</td>\n",
       "                        <td id=\"T_7dbfd_row22_col1\" class=\"data row22 col1\" >1</td>\n",
       "            </tr>\n",
       "            <tr>\n",
       "                                <td id=\"T_7dbfd_row23_col0\" class=\"data row23 col0\" >Ilya Kochetov</td>\n",
       "                        <td id=\"T_7dbfd_row23_col1\" class=\"data row23 col1\" >1</td>\n",
       "            </tr>\n",
       "            <tr>\n",
       "                                <td id=\"T_7dbfd_row24_col0\" class=\"data row24 col0\" >James Curran</td>\n",
       "                        <td id=\"T_7dbfd_row24_col1\" class=\"data row24 col1\" >1</td>\n",
       "            </tr>\n",
       "            <tr>\n",
       "                                <td id=\"T_7dbfd_row25_col0\" class=\"data row25 col0\" >Jim</td>\n",
       "                        <td id=\"T_7dbfd_row25_col1\" class=\"data row25 col1\" >7</td>\n",
       "            </tr>\n",
       "            <tr>\n",
       "                                <td id=\"T_7dbfd_row26_col0\" class=\"data row26 col0\" >Joe</td>\n",
       "                        <td id=\"T_7dbfd_row26_col1\" class=\"data row26 col1\" >9</td>\n",
       "            </tr>\n",
       "            <tr>\n",
       "                                <td id=\"T_7dbfd_row27_col0\" class=\"data row27 col0\" >Joel Coehoorn</td>\n",
       "                        <td id=\"T_7dbfd_row27_col1\" class=\"data row27 col1\" >1</td>\n",
       "            </tr>\n",
       "            <tr>\n",
       "                                <td id=\"T_7dbfd_row28_col0\" class=\"data row28 col0\" >Johannes Schaub - litb</td>\n",
       "                        <td id=\"T_7dbfd_row28_col1\" class=\"data row28 col1\" >1</td>\n",
       "            </tr>\n",
       "            <tr>\n",
       "                                <td id=\"T_7dbfd_row29_col0\" class=\"data row29 col0\" >John Millikin</td>\n",
       "                        <td id=\"T_7dbfd_row29_col1\" class=\"data row29 col1\" >1</td>\n",
       "            </tr>\n",
       "            <tr>\n",
       "                                <td id=\"T_7dbfd_row30_col0\" class=\"data row30 col0\" >Jon Limjap</td>\n",
       "                        <td id=\"T_7dbfd_row30_col1\" class=\"data row30 col1\" >1</td>\n",
       "            </tr>\n",
       "            <tr>\n",
       "                                <td id=\"T_7dbfd_row31_col0\" class=\"data row31 col0\" >Jon Skeet</td>\n",
       "                        <td id=\"T_7dbfd_row31_col1\" class=\"data row31 col1\" >1</td>\n",
       "            </tr>\n",
       "            <tr>\n",
       "                                <td id=\"T_7dbfd_row32_col0\" class=\"data row32 col0\" >Jorge Ferreira</td>\n",
       "                        <td id=\"T_7dbfd_row32_col1\" class=\"data row32 col1\" >1</td>\n",
       "            </tr>\n",
       "            <tr>\n",
       "                                <td id=\"T_7dbfd_row33_col0\" class=\"data row33 col0\" >Josh</td>\n",
       "                        <td id=\"T_7dbfd_row33_col1\" class=\"data row33 col1\" >16</td>\n",
       "            </tr>\n",
       "            <tr>\n",
       "                                <td id=\"T_7dbfd_row34_col0\" class=\"data row34 col0\" >Keith</td>\n",
       "                        <td id=\"T_7dbfd_row34_col1\" class=\"data row34 col1\" >5</td>\n",
       "            </tr>\n",
       "            <tr>\n",
       "                                <td id=\"T_7dbfd_row35_col0\" class=\"data row35 col0\" >Kevin</td>\n",
       "                        <td id=\"T_7dbfd_row35_col1\" class=\"data row35 col1\" >11</td>\n",
       "            </tr>\n",
       "            <tr>\n",
       "                                <td id=\"T_7dbfd_row36_col0\" class=\"data row36 col0\" >Kibbee</td>\n",
       "                        <td id=\"T_7dbfd_row36_col1\" class=\"data row36 col1\" >1</td>\n",
       "            </tr>\n",
       "            <tr>\n",
       "                                <td id=\"T_7dbfd_row37_col0\" class=\"data row37 col0\" >Konrad Rudolph</td>\n",
       "                        <td id=\"T_7dbfd_row37_col1\" class=\"data row37 col1\" >1</td>\n",
       "            </tr>\n",
       "            <tr>\n",
       "                                <td id=\"T_7dbfd_row38_col0\" class=\"data row38 col0\" >Lasse Vågsæther Karlsen</td>\n",
       "                        <td id=\"T_7dbfd_row38_col1\" class=\"data row38 col1\" >1</td>\n",
       "            </tr>\n",
       "            <tr>\n",
       "                                <td id=\"T_7dbfd_row39_col0\" class=\"data row39 col0\" >Lou Franco</td>\n",
       "                        <td id=\"T_7dbfd_row39_col1\" class=\"data row39 col1\" >1</td>\n",
       "            </tr>\n",
       "            <tr>\n",
       "                                <td id=\"T_7dbfd_row40_col0\" class=\"data row40 col0\" >Marc Gravell</td>\n",
       "                        <td id=\"T_7dbfd_row40_col1\" class=\"data row40 col1\" >1</td>\n",
       "            </tr>\n",
       "            <tr>\n",
       "                                <td id=\"T_7dbfd_row41_col0\" class=\"data row41 col0\" >Mark</td>\n",
       "                        <td id=\"T_7dbfd_row41_col1\" class=\"data row41 col1\" >17</td>\n",
       "            </tr>\n",
       "            <tr>\n",
       "                                <td id=\"T_7dbfd_row42_col0\" class=\"data row42 col0\" >Mark Cidade</td>\n",
       "                        <td id=\"T_7dbfd_row42_col1\" class=\"data row42 col1\" >1</td>\n",
       "            </tr>\n",
       "            <tr>\n",
       "                                <td id=\"T_7dbfd_row43_col0\" class=\"data row43 col0\" >Mark Harrison</td>\n",
       "                        <td id=\"T_7dbfd_row43_col1\" class=\"data row43 col1\" >1</td>\n",
       "            </tr>\n",
       "            <tr>\n",
       "                                <td id=\"T_7dbfd_row44_col0\" class=\"data row44 col0\" >Martin v. Löwis</td>\n",
       "                        <td id=\"T_7dbfd_row44_col1\" class=\"data row44 col1\" >1</td>\n",
       "            </tr>\n",
       "            <tr>\n",
       "                                <td id=\"T_7dbfd_row45_col0\" class=\"data row45 col0\" >Matt</td>\n",
       "                        <td id=\"T_7dbfd_row45_col1\" class=\"data row45 col1\" >29</td>\n",
       "            </tr>\n",
       "            <tr>\n",
       "                                <td id=\"T_7dbfd_row46_col0\" class=\"data row46 col0\" >Matt Hamilton</td>\n",
       "                        <td id=\"T_7dbfd_row46_col1\" class=\"data row46 col1\" >1</td>\n",
       "            </tr>\n",
       "            <tr>\n",
       "                                <td id=\"T_7dbfd_row47_col0\" class=\"data row47 col0\" >Michael Burr</td>\n",
       "                        <td id=\"T_7dbfd_row47_col1\" class=\"data row47 col1\" >1</td>\n",
       "            </tr>\n",
       "            <tr>\n",
       "                                <td id=\"T_7dbfd_row48_col0\" class=\"data row48 col0\" >Michael Stum</td>\n",
       "                        <td id=\"T_7dbfd_row48_col1\" class=\"data row48 col1\" >1</td>\n",
       "            </tr>\n",
       "            <tr>\n",
       "                                <td id=\"T_7dbfd_row49_col0\" class=\"data row49 col0\" >Mitchel Sellers</td>\n",
       "                        <td id=\"T_7dbfd_row49_col1\" class=\"data row49 col1\" >1</td>\n",
       "            </tr>\n",
       "            <tr>\n",
       "                                <td id=\"T_7dbfd_row50_col0\" class=\"data row50 col0\" >Nick</td>\n",
       "                        <td id=\"T_7dbfd_row50_col1\" class=\"data row50 col1\" >16</td>\n",
       "            </tr>\n",
       "            <tr>\n",
       "                                <td id=\"T_7dbfd_row51_col0\" class=\"data row51 col0\" >Norman Ramsey</td>\n",
       "                        <td id=\"T_7dbfd_row51_col1\" class=\"data row51 col1\" >1</td>\n",
       "            </tr>\n",
       "            <tr>\n",
       "                                <td id=\"T_7dbfd_row52_col0\" class=\"data row52 col0\" >Oli</td>\n",
       "                        <td id=\"T_7dbfd_row52_col1\" class=\"data row52 col1\" >3</td>\n",
       "            </tr>\n",
       "            <tr>\n",
       "                                <td id=\"T_7dbfd_row53_col0\" class=\"data row53 col0\" >Orion Edwards</td>\n",
       "                        <td id=\"T_7dbfd_row53_col1\" class=\"data row53 col1\" >1</td>\n",
       "            </tr>\n",
       "            <tr>\n",
       "                                <td id=\"T_7dbfd_row54_col0\" class=\"data row54 col0\" >Paul Nathan</td>\n",
       "                        <td id=\"T_7dbfd_row54_col1\" class=\"data row54 col1\" >1</td>\n",
       "            </tr>\n",
       "            <tr>\n",
       "                                <td id=\"T_7dbfd_row55_col0\" class=\"data row55 col0\" >PhiLho</td>\n",
       "                        <td id=\"T_7dbfd_row55_col1\" class=\"data row55 col1\" >1</td>\n",
       "            </tr>\n",
       "            <tr>\n",
       "                                <td id=\"T_7dbfd_row56_col0\" class=\"data row56 col0\" >Rob</td>\n",
       "                        <td id=\"T_7dbfd_row56_col1\" class=\"data row56 col1\" >15</td>\n",
       "            </tr>\n",
       "            <tr>\n",
       "                                <td id=\"T_7dbfd_row57_col0\" class=\"data row57 col0\" >Rob Cooper</td>\n",
       "                        <td id=\"T_7dbfd_row57_col1\" class=\"data row57 col1\" >1</td>\n",
       "            </tr>\n",
       "            <tr>\n",
       "                                <td id=\"T_7dbfd_row58_col0\" class=\"data row58 col0\" >Rob Walker</td>\n",
       "                        <td id=\"T_7dbfd_row58_col1\" class=\"data row58 col1\" >1</td>\n",
       "            </tr>\n",
       "            <tr>\n",
       "                                <td id=\"T_7dbfd_row59_col0\" class=\"data row59 col0\" >Ryan</td>\n",
       "                        <td id=\"T_7dbfd_row59_col1\" class=\"data row59 col1\" >10</td>\n",
       "            </tr>\n",
       "            <tr>\n",
       "                                <td id=\"T_7dbfd_row60_col0\" class=\"data row60 col0\" >S.Lott</td>\n",
       "                        <td id=\"T_7dbfd_row60_col1\" class=\"data row60 col1\" >1</td>\n",
       "            </tr>\n",
       "            <tr>\n",
       "                                <td id=\"T_7dbfd_row61_col0\" class=\"data row61 col0\" >Sklivvz</td>\n",
       "                        <td id=\"T_7dbfd_row61_col1\" class=\"data row61 col1\" >1</td>\n",
       "            </tr>\n",
       "            <tr>\n",
       "                                <td id=\"T_7dbfd_row62_col0\" class=\"data row62 col0\" >Steven A. Lowe</td>\n",
       "                        <td id=\"T_7dbfd_row62_col1\" class=\"data row62 col1\" >1</td>\n",
       "            </tr>\n",
       "            <tr>\n",
       "                                <td id=\"T_7dbfd_row63_col0\" class=\"data row63 col0\" >TheSmurf</td>\n",
       "                        <td id=\"T_7dbfd_row63_col1\" class=\"data row63 col1\" >1</td>\n",
       "            </tr>\n",
       "            <tr>\n",
       "                                <td id=\"T_7dbfd_row64_col0\" class=\"data row64 col0\" >Tom</td>\n",
       "                        <td id=\"T_7dbfd_row64_col1\" class=\"data row64 col1\" >19</td>\n",
       "            </tr>\n",
       "            <tr>\n",
       "                                <td id=\"T_7dbfd_row65_col0\" class=\"data row65 col0\" >Vilx-</td>\n",
       "                        <td id=\"T_7dbfd_row65_col1\" class=\"data row65 col1\" >1</td>\n",
       "            </tr>\n",
       "            <tr>\n",
       "                                <td id=\"T_7dbfd_row66_col0\" class=\"data row66 col0\" >Vinko Vrsalovic</td>\n",
       "                        <td id=\"T_7dbfd_row66_col1\" class=\"data row66 col1\" >1</td>\n",
       "            </tr>\n",
       "            <tr>\n",
       "                                <td id=\"T_7dbfd_row67_col0\" class=\"data row67 col0\" >aku</td>\n",
       "                        <td id=\"T_7dbfd_row67_col1\" class=\"data row67 col1\" >1</td>\n",
       "            </tr>\n",
       "            <tr>\n",
       "                                <td id=\"T_7dbfd_row68_col0\" class=\"data row68 col0\" >anjanb</td>\n",
       "                        <td id=\"T_7dbfd_row68_col1\" class=\"data row68 col1\" >1</td>\n",
       "            </tr>\n",
       "            <tr>\n",
       "                                <td id=\"T_7dbfd_row69_col0\" class=\"data row69 col0\" >dkretz</td>\n",
       "                        <td id=\"T_7dbfd_row69_col1\" class=\"data row69 col1\" >1</td>\n",
       "            </tr>\n",
       "            <tr>\n",
       "                                <td id=\"T_7dbfd_row70_col0\" class=\"data row70 col0\" >frankodwyer</td>\n",
       "                        <td id=\"T_7dbfd_row70_col1\" class=\"data row70 col1\" >1</td>\n",
       "            </tr>\n",
       "            <tr>\n",
       "                                <td id=\"T_7dbfd_row71_col0\" class=\"data row71 col0\" >gbjbaanb</td>\n",
       "                        <td id=\"T_7dbfd_row71_col1\" class=\"data row71 col1\" >1</td>\n",
       "            </tr>\n",
       "            <tr>\n",
       "                                <td id=\"T_7dbfd_row72_col0\" class=\"data row72 col0\" >jfs</td>\n",
       "                        <td id=\"T_7dbfd_row72_col1\" class=\"data row72 col1\" >3</td>\n",
       "            </tr>\n",
       "            <tr>\n",
       "                                <td id=\"T_7dbfd_row73_col0\" class=\"data row73 col0\" >leppie</td>\n",
       "                        <td id=\"T_7dbfd_row73_col1\" class=\"data row73 col1\" >1</td>\n",
       "            </tr>\n",
       "            <tr>\n",
       "                                <td id=\"T_7dbfd_row74_col0\" class=\"data row74 col0\" >lomaxx</td>\n",
       "                        <td id=\"T_7dbfd_row74_col1\" class=\"data row74 col1\" >1</td>\n",
       "            </tr>\n",
       "            <tr>\n",
       "                                <td id=\"T_7dbfd_row75_col0\" class=\"data row75 col0\" >mattlant</td>\n",
       "                        <td id=\"T_7dbfd_row75_col1\" class=\"data row75 col1\" >1</td>\n",
       "            </tr>\n",
       "            <tr>\n",
       "                                <td id=\"T_7dbfd_row76_col0\" class=\"data row76 col0\" >paxdiablo</td>\n",
       "                        <td id=\"T_7dbfd_row76_col1\" class=\"data row76 col1\" >1</td>\n",
       "            </tr>\n",
       "            <tr>\n",
       "                                <td id=\"T_7dbfd_row77_col0\" class=\"data row77 col0\" >tvanfosson</td>\n",
       "                        <td id=\"T_7dbfd_row77_col1\" class=\"data row77 col1\" >1</td>\n",
       "            </tr>\n",
       "            <tr>\n",
       "                                <td id=\"T_7dbfd_row78_col0\" class=\"data row78 col0\" >tzot</td>\n",
       "                        <td id=\"T_7dbfd_row78_col1\" class=\"data row78 col1\" >1</td>\n",
       "            </tr>\n",
       "    </tbody></table>"
      ],
      "text/plain": [
       "<pandas.io.formats.style.Styler at 0x7fe7f8fbfc70>"
      ]
     },
     "execution_count": 7,
     "metadata": {},
     "output_type": "execute_result"
    }
   ],
   "source": [
    "# напишите запрос\n",
    "query = '''\n",
    "SELECT u.display_name,\n",
    "       COUNT(DISTINCT u.id)\n",
    "FROM stackoverflow.users AS u\n",
    "INNER JOIN stackoverflow.posts AS p ON u.id = p.user_id\n",
    "LEFT OUTER JOIN stackoverflow.post_types AS pt ON p.post_type_id = pt.id\n",
    "WHERE pt.type LIKE 'Answer' AND p.creation_date::date BETWEEN u.creation_date::date AND (u.creation_date::date + INTERVAL '1 month')\n",
    "GROUP BY u.display_name\n",
    "HAVING COUNT(p.id) > 100\n",
    "ORDER BY display_name;\n",
    "'''\n",
    "\n",
    "# выполните запрос\n",
    "sample_df_2 = pd.read_sql_query(query, con=engine) \n",
    "sample_df_2.style.hide_index()"
   ]
  },
  {
   "cell_type": "code",
   "execution_count": 8,
   "metadata": {},
   "outputs": [
    {
     "data": {
      "text/plain": [
       "1     60\n",
       "3      2\n",
       "10     2\n",
       "15     2\n",
       "16     2\n",
       "29     2\n",
       "5      1\n",
       "7      1\n",
       "8      1\n",
       "9      1\n",
       "11     1\n",
       "12     1\n",
       "17     1\n",
       "19     1\n",
       "21     1\n",
       "Name: count, dtype: int64"
      ]
     },
     "execution_count": 8,
     "metadata": {},
     "output_type": "execute_result"
    }
   ],
   "source": [
    "sample_df_2['count'].value_counts()"
   ]
  },
  {
   "cell_type": "markdown",
   "metadata": {
    "id": "I3Wr82TplKpI"
   },
   "source": [
    "Какие аномалии наблюдаются в данных? О чём они говорят?"
   ]
  },
  {
   "cell_type": "markdown",
   "metadata": {
    "id": "CEIGGQ6ODWKy"
   },
   "source": [
    "**Вывод:** Из полученных данных видно, что у 19 имен пользователей есть по несколько уникальных user_id. Максимальное количество уникальных id  29. Скорее всего речь идет об однофамильцах или есть возможность одному пользователю зарегестрироваться несколько раз (но это надо проверять). "
   ]
  },
  {
   "cell_type": "markdown",
   "metadata": {
    "id": "JhM2xXj5DWKu"
   },
   "source": [
    "# Задание 3"
   ]
  },
  {
   "cell_type": "markdown",
   "metadata": {
    "id": "IS6xPqyyDWKu"
   },
   "source": [
    "Выведите количество постов за 2008 год по месяцам. Отберите посты от пользователей, которые зарегистрировались в сентябре 2008 года и сделали хотя бы один пост в декабре того же года. Отсортируйте таблицу по значению месяца по убыванию."
   ]
  },
  {
   "cell_type": "markdown",
   "metadata": {
    "id": "WmjhjV2xDWKv"
   },
   "source": [
    "| month | count |\n",
    "| ------|------ |\n",
    "| 2008-12-01 | 17641 |\n",
    "| 2008-11-01 | 18294 |\n",
    "| ... | ... |"
   ]
  },
  {
   "cell_type": "code",
   "execution_count": 9,
   "metadata": {
    "id": "kVu0FB8WDWKv"
   },
   "outputs": [
    {
     "data": {
      "text/html": [
       "<style  type=\"text/css\" >\n",
       "</style><table id=\"T_5cd5c_\" ><thead>    <tr>        <th class=\"col_heading level0 col0\" >month</th>        <th class=\"col_heading level0 col1\" >count</th>    </tr></thead><tbody>\n",
       "                <tr>\n",
       "                                <td id=\"T_5cd5c_row0_col0\" class=\"data row0 col0\" >2008-12-01</td>\n",
       "                        <td id=\"T_5cd5c_row0_col1\" class=\"data row0 col1\" >17641</td>\n",
       "            </tr>\n",
       "            <tr>\n",
       "                                <td id=\"T_5cd5c_row1_col0\" class=\"data row1 col0\" >2008-11-01</td>\n",
       "                        <td id=\"T_5cd5c_row1_col1\" class=\"data row1 col1\" >18294</td>\n",
       "            </tr>\n",
       "            <tr>\n",
       "                                <td id=\"T_5cd5c_row2_col0\" class=\"data row2 col0\" >2008-10-01</td>\n",
       "                        <td id=\"T_5cd5c_row2_col1\" class=\"data row2 col1\" >27171</td>\n",
       "            </tr>\n",
       "            <tr>\n",
       "                                <td id=\"T_5cd5c_row3_col0\" class=\"data row3 col0\" >2008-09-01</td>\n",
       "                        <td id=\"T_5cd5c_row3_col1\" class=\"data row3 col1\" >24870</td>\n",
       "            </tr>\n",
       "            <tr>\n",
       "                                <td id=\"T_5cd5c_row4_col0\" class=\"data row4 col0\" >2008-08-01</td>\n",
       "                        <td id=\"T_5cd5c_row4_col1\" class=\"data row4 col1\" >32</td>\n",
       "            </tr>\n",
       "    </tbody></table>"
      ],
      "text/plain": [
       "<pandas.io.formats.style.Styler at 0x7fe7f8d89fd0>"
      ]
     },
     "execution_count": 9,
     "metadata": {},
     "output_type": "execute_result"
    }
   ],
   "source": [
    "# напишите запрос\n",
    "query = '''\n",
    "WITH users AS\n",
    "           (SELECT u.id AS id\n",
    "            FROM stackoverflow.users AS u\n",
    "            INNER JOIN stackoverflow.posts AS p ON u.id = p.user_id\n",
    "            WHERE DATE_TRUNC('month', u.creation_date)::date = '2008-09-01' AND DATE_TRUNC('month', p.creation_date)::date = '2008-12-01')\n",
    "\n",
    "SELECT DATE_TRUNC('month', creation_date)::date AS month,\n",
    "       COUNT(id) \n",
    "FROM stackoverflow.posts\n",
    "WHERE user_id IN (SELECT id\n",
    "                  FROM users)\n",
    "GROUP BY month\n",
    "ORDER BY month DESC;\n",
    "'''\n",
    "\n",
    "# выполните запрос\n",
    "sample_df_3 = pd.read_sql_query(query, con=engine) \n",
    "sample_df_3.style.hide_index()"
   ]
  },
  {
   "cell_type": "markdown",
   "metadata": {
    "id": "Vnxn9DVHDWKx"
   },
   "source": [
    "Изучите данные: есть ли в них аномалии? Предположите, почему могли появиться аномальные значения."
   ]
  },
  {
   "cell_type": "markdown",
   "metadata": {
    "id": "MMVIz4yMlKpN"
   },
   "source": [
    "**Вывод:** По одному из условий задачи необходимо было посчитать количество постов по месяцам от пользователей, которые были зарегистрированы в сентябре. Однако в полученных данных мы видим 32 поста в августе, пользователи зарегистрировавшиеся в сентябре не могли написать данные посты. Тут скорре всего какая-то техническая ошибка. "
   ]
  },
  {
   "cell_type": "markdown",
   "metadata": {
    "id": "5Pcizm0DDWKz"
   },
   "source": [
    "# Задание 4"
   ]
  },
  {
   "cell_type": "markdown",
   "metadata": {
    "id": "KUZPF6vHDWKz"
   },
   "source": [
    "Используя данные о постах, выведите несколько полей:\n",
    "\n",
    "- идентификатор пользователя, который написал пост;\n",
    "- дата создания поста;\n",
    "- количество просмотров у текущего поста;\n",
    "- сумму просмотров постов автора с накоплением.\n",
    "\n",
    "Данные в таблице должны быть отсортированы по возрастанию идентификаторов пользователей, а данные об одном и том же пользователе — по возрастанию даты создания поста."
   ]
  },
  {
   "cell_type": "markdown",
   "metadata": {
    "id": "ZpsTUVDYDWK0"
   },
   "source": [
    "| user_id | creation_date | views_count | cumulative_count |\n",
    "| ------ | -------------- | ----------- | ---------------- |\n",
    "| 1 | 2008-07-31 23:41:00  | 480476   | 480476  |\n",
    "| 1 | 2008-07-31 23:55:38  | 136033 | 616509  | \n",
    "| 1 | 2008-07-31 23:56:41  | 0 |  616509  |\n",
    "| ... | ... | ... | ... |\n",
    "| 2 | 2008-07-31 23:56:41 | 79087  | 79087 |\n",
    "| 2 | 2008-08-01 05:09:56 | 65443 | 144530 |\n",
    "| ... | ...  | ...  | ...  |"
   ]
  },
  {
   "cell_type": "code",
   "execution_count": 10,
   "metadata": {
    "id": "hDoJhMzfDWK0"
   },
   "outputs": [
    {
     "data": {
      "text/html": [
       "<div>\n",
       "<style scoped>\n",
       "    .dataframe tbody tr th:only-of-type {\n",
       "        vertical-align: middle;\n",
       "    }\n",
       "\n",
       "    .dataframe tbody tr th {\n",
       "        vertical-align: top;\n",
       "    }\n",
       "\n",
       "    .dataframe thead th {\n",
       "        text-align: right;\n",
       "    }\n",
       "</style>\n",
       "<table border=\"1\" class=\"dataframe\">\n",
       "  <thead>\n",
       "    <tr style=\"text-align: right;\">\n",
       "      <th></th>\n",
       "      <th>user_id</th>\n",
       "      <th>creation_date</th>\n",
       "      <th>views_count</th>\n",
       "      <th>sum_cml</th>\n",
       "    </tr>\n",
       "  </thead>\n",
       "  <tbody>\n",
       "    <tr>\n",
       "      <th>0</th>\n",
       "      <td>1</td>\n",
       "      <td>2008-07-31 23:41:00</td>\n",
       "      <td>480476</td>\n",
       "      <td>480476</td>\n",
       "    </tr>\n",
       "    <tr>\n",
       "      <th>1</th>\n",
       "      <td>1</td>\n",
       "      <td>2008-07-31 23:55:38</td>\n",
       "      <td>136033</td>\n",
       "      <td>616509</td>\n",
       "    </tr>\n",
       "    <tr>\n",
       "      <th>2</th>\n",
       "      <td>1</td>\n",
       "      <td>2008-07-31 23:56:41</td>\n",
       "      <td>0</td>\n",
       "      <td>616509</td>\n",
       "    </tr>\n",
       "    <tr>\n",
       "      <th>3</th>\n",
       "      <td>1</td>\n",
       "      <td>2008-08-04 02:45:08</td>\n",
       "      <td>0</td>\n",
       "      <td>616509</td>\n",
       "    </tr>\n",
       "    <tr>\n",
       "      <th>4</th>\n",
       "      <td>1</td>\n",
       "      <td>2008-08-04 04:31:03</td>\n",
       "      <td>0</td>\n",
       "      <td>616509</td>\n",
       "    </tr>\n",
       "    <tr>\n",
       "      <th>...</th>\n",
       "      <td>...</td>\n",
       "      <td>...</td>\n",
       "      <td>...</td>\n",
       "      <td>...</td>\n",
       "    </tr>\n",
       "    <tr>\n",
       "      <th>243791</th>\n",
       "      <td>5696608</td>\n",
       "      <td>2008-12-23 16:00:37</td>\n",
       "      <td>0</td>\n",
       "      <td>2804</td>\n",
       "    </tr>\n",
       "    <tr>\n",
       "      <th>243792</th>\n",
       "      <td>5696608</td>\n",
       "      <td>2008-12-23 17:35:09</td>\n",
       "      <td>0</td>\n",
       "      <td>2804</td>\n",
       "    </tr>\n",
       "    <tr>\n",
       "      <th>243793</th>\n",
       "      <td>5696608</td>\n",
       "      <td>2008-12-24 01:02:48</td>\n",
       "      <td>0</td>\n",
       "      <td>2804</td>\n",
       "    </tr>\n",
       "    <tr>\n",
       "      <th>243794</th>\n",
       "      <td>5696608</td>\n",
       "      <td>2008-12-30 14:34:45</td>\n",
       "      <td>0</td>\n",
       "      <td>2804</td>\n",
       "    </tr>\n",
       "    <tr>\n",
       "      <th>243795</th>\n",
       "      <td>5696608</td>\n",
       "      <td>2008-12-30 16:32:12</td>\n",
       "      <td>0</td>\n",
       "      <td>2804</td>\n",
       "    </tr>\n",
       "  </tbody>\n",
       "</table>\n",
       "<p>243796 rows × 4 columns</p>\n",
       "</div>"
      ],
      "text/plain": [
       "        user_id       creation_date  views_count  sum_cml\n",
       "0             1 2008-07-31 23:41:00       480476   480476\n",
       "1             1 2008-07-31 23:55:38       136033   616509\n",
       "2             1 2008-07-31 23:56:41            0   616509\n",
       "3             1 2008-08-04 02:45:08            0   616509\n",
       "4             1 2008-08-04 04:31:03            0   616509\n",
       "...         ...                 ...          ...      ...\n",
       "243791  5696608 2008-12-23 16:00:37            0     2804\n",
       "243792  5696608 2008-12-23 17:35:09            0     2804\n",
       "243793  5696608 2008-12-24 01:02:48            0     2804\n",
       "243794  5696608 2008-12-30 14:34:45            0     2804\n",
       "243795  5696608 2008-12-30 16:32:12            0     2804\n",
       "\n",
       "[243796 rows x 4 columns]"
      ]
     },
     "execution_count": 10,
     "metadata": {},
     "output_type": "execute_result"
    }
   ],
   "source": [
    "# напишите запрос\n",
    "query = '''\n",
    "SELECT user_id,\n",
    "       creation_date,\n",
    "       views_count,\n",
    "       SUM(views_count) OVER (PARTITION BY user_id ORDER BY creation_date) AS sum_cml\n",
    "FROM stackoverflow.posts\n",
    "ORDER BY user_id\n",
    "'''\n",
    "# выполните запрос\n",
    "sample_df_4 = pd.read_sql_query(query, con=engine) \n",
    "sample_df_4"
   ]
  },
  {
   "cell_type": "markdown",
   "metadata": {
    "id": "N0kHRHvIDWK2"
   },
   "source": [
    "# Задание 5"
   ]
  },
  {
   "cell_type": "markdown",
   "metadata": {
    "id": "gBgvmPtODWK2"
   },
   "source": [
    "Найдите среднее количество постов пользователей в день за август 2008 года. Отберите данные о пользователях, которые опубликовали больше 120 постов за август. Дни без публикаций не учитывайте. \n",
    "\n",
    "Отсортируйте результат по возрастанию среднего количества постов. Значения можно не округлять."
   ]
  },
  {
   "cell_type": "markdown",
   "metadata": {
    "id": "nfzR08BODWK3"
   },
   "source": [
    "| user_id | avg_daily |\n",
    "| ------- | --------- |\n",
    "| 116     | 4.777778  |\n",
    "| 234     | 5.208333  |\n",
    "| ...     | ... |"
   ]
  },
  {
   "cell_type": "code",
   "execution_count": 11,
   "metadata": {
    "id": "YFyPNz5GDWK3"
   },
   "outputs": [
    {
     "data": {
      "text/html": [
       "<style  type=\"text/css\" >\n",
       "</style><table id=\"T_c220a_\" ><thead>    <tr>        <th class=\"col_heading level0 col0\" >user_id</th>        <th class=\"col_heading level0 col1\" >avg_count</th>    </tr></thead><tbody>\n",
       "                <tr>\n",
       "                                <td id=\"T_c220a_row0_col0\" class=\"data row0 col0\" >116</td>\n",
       "                        <td id=\"T_c220a_row0_col1\" class=\"data row0 col1\" >4.777778</td>\n",
       "            </tr>\n",
       "            <tr>\n",
       "                                <td id=\"T_c220a_row1_col0\" class=\"data row1 col0\" >234</td>\n",
       "                        <td id=\"T_c220a_row1_col1\" class=\"data row1 col1\" >5.208333</td>\n",
       "            </tr>\n",
       "            <tr>\n",
       "                                <td id=\"T_c220a_row2_col0\" class=\"data row2 col0\" >91</td>\n",
       "                        <td id=\"T_c220a_row2_col1\" class=\"data row2 col1\" >5.681818</td>\n",
       "            </tr>\n",
       "            <tr>\n",
       "                                <td id=\"T_c220a_row3_col0\" class=\"data row3 col0\" >905</td>\n",
       "                        <td id=\"T_c220a_row3_col1\" class=\"data row3 col1\" >7.000000</td>\n",
       "            </tr>\n",
       "            <tr>\n",
       "                                <td id=\"T_c220a_row4_col0\" class=\"data row4 col0\" >383</td>\n",
       "                        <td id=\"T_c220a_row4_col1\" class=\"data row4 col1\" >7.277778</td>\n",
       "            </tr>\n",
       "    </tbody></table>"
      ],
      "text/plain": [
       "<pandas.io.formats.style.Styler at 0x7fe7f8d7e6a0>"
      ]
     },
     "execution_count": 11,
     "metadata": {},
     "output_type": "execute_result"
    }
   ],
   "source": [
    "# напишите запрос\n",
    "query = '''\n",
    "\n",
    "WITH session AS\n",
    "  (SELECT user_id,\n",
    "        EXTRACT(DAY FROM creation_date) AS day_number,\n",
    "        COUNT(id) AS count\n",
    "   FROM stackoverflow.posts\n",
    "   WHERE DATE_TRUNC ('month', creation_date)::date = '2008-08-01' AND user_id IN (SELECT user_id\n",
    "                                                                                  FROM stackoverflow.posts\n",
    "                                                                                  WHERE DATE_TRUNC ('month', creation_date)::date = '2008-08-01'\n",
    "                                                                                  GROUP BY user_id\n",
    "                                                                                  HAVING COUNT(id) > 120)\n",
    "   GROUP BY user_id,\n",
    "            day_number)\n",
    "\n",
    "SELECT DISTINCT user_id, \n",
    "       AVG(count) AS avg_count\n",
    "FROM session\n",
    "GROUP BY user_id\n",
    "ORDER BY avg_count      \n",
    " \n",
    " \n",
    "'''\n",
    "\n",
    "# выполните запрос\n",
    "sample_df_5 = pd.read_sql_query(query, con=engine) \n",
    "sample_df_5.style.hide_index()"
   ]
  },
  {
   "cell_type": "markdown",
   "metadata": {
    "id": "EQ0dcFH4DWK5"
   },
   "source": [
    "# Задание 6"
   ]
  },
  {
   "cell_type": "markdown",
   "metadata": {
    "id": "c7flfg_hDWK5"
   },
   "source": [
    "Сколько в среднем дней в период с 1 по 7 декабря 2008 года пользователи взаимодействовали с платформой? Для каждого пользователя отберите дни, в которые он или она опубликовали хотя бы один пост. Нужно получить одно целое число — не забудьте округлить результат. "
   ]
  },
  {
   "cell_type": "markdown",
   "metadata": {
    "id": "RC1Ibzm9DWK6"
   },
   "source": [
    "| result |\n",
    "| -----  |\n",
    "| <целое число> |"
   ]
  },
  {
   "cell_type": "code",
   "execution_count": 12,
   "metadata": {
    "id": "kZ7LXTr6DWK6"
   },
   "outputs": [
    {
     "data": {
      "text/html": [
       "<style  type=\"text/css\" >\n",
       "</style><table id=\"T_8d812_\" ><thead>    <tr>        <th class=\"col_heading level0 col0\" >result</th>    </tr></thead><tbody>\n",
       "                <tr>\n",
       "                                <td id=\"T_8d812_row0_col0\" class=\"data row0 col0\" >2</td>\n",
       "            </tr>\n",
       "    </tbody></table>"
      ],
      "text/plain": [
       "<pandas.io.formats.style.Styler at 0x7fe7f8d7e460>"
      ]
     },
     "execution_count": 12,
     "metadata": {},
     "output_type": "execute_result"
    }
   ],
   "source": [
    "# напишите запрос\n",
    "query = '''\n",
    "WITH days AS\n",
    "         (SELECT COUNT(DISTINCT creation_date::date) AS count\n",
    "          FROM stackoverflow.posts\n",
    "          WHERE creation_date::date BETWEEN '2008-12-01' AND '2008-12-07'\n",
    "          GROUP BY user_id)\n",
    "\n",
    "SELECT CAST(ROUND(AVG(count)) AS int) AS result\n",
    "FROM days     \n",
    "'''\n",
    "# выполните запрос\n",
    "sample_df_6 = pd.read_sql_query(query, con=engine) \n",
    "sample_df_6.style.hide_index()"
   ]
  },
  {
   "cell_type": "markdown",
   "metadata": {
    "id": "UJFtNNggDWK7"
   },
   "source": [
    "Проанализируйте итоговую таблицу — какие выводы можно сделать?"
   ]
  },
  {
   "cell_type": "markdown",
   "metadata": {
    "id": "LfUuYz-1DWK8"
   },
   "source": [
    "**Вывод:** Исходя из полученного результата пользователи с период с 1 по 7 декабря в среднем взаимодействовали с платформой 2 дня. "
   ]
  },
  {
   "cell_type": "markdown",
   "metadata": {
    "id": "wfOmqmfLDWK8"
   },
   "source": [
    "# Задание 7"
   ]
  },
  {
   "cell_type": "markdown",
   "metadata": {
    "id": "X4ARQimADWK9"
   },
   "source": [
    "Выведите историю активности каждого пользователя в таком виде: идентификатор пользователя, дата публикации поста. Отсортируйте вывод по возрастанию идентификаторов пользователей, а для каждого пользователя — по возрастанию даты публикации.\n",
    "\n",
    "Добавьте в таблицу новое поле: для каждого поста в нём будет указано название месяца предпоследней публикации пользователя относительно текущей. Если такой публикации нет, укажите `NULL`.  Python автоматически поменяет `NULL` на `None`, но дополнительно преобразовывать значения `None` вам не нужно.\n",
    "\n",
    "Посмотрите внимательно на образец таблицы: для первых двух постов предпоследней публикации нет, но, начиная с третьего поста, в новое поле входит нужный месяц. Для следующего пользователя в первые две записи поля `second_last_month` тоже войдёт `NULL`."
   ]
  },
  {
   "cell_type": "markdown",
   "metadata": {
    "id": "IGPjRP01DWK9"
   },
   "source": [
    "| user_id | creation_date | second_last_month |\n",
    "| ------- | ------------- | ----------------- |\n",
    "| 1       | 2008-07-31 23:41:00 | None |\n",
    "| 1       | 2008-07-31 23:55:38 | None |\n",
    "| 1       | 2008-07-31 23:56:41 | July |\n",
    "| 1       | 2008-08-04 02:45:08 | July |\n",
    "| 1       | 2008-08-04 04:31:03 | July |\n",
    "| 1       | 2008-08-04 08:04:42 | August |\n",
    "| ... | ... | ... |"
   ]
  },
  {
   "cell_type": "code",
   "execution_count": 13,
   "metadata": {
    "id": "HzI1vhaMDWK-"
   },
   "outputs": [
    {
     "data": {
      "text/html": [
       "<div>\n",
       "<style scoped>\n",
       "    .dataframe tbody tr th:only-of-type {\n",
       "        vertical-align: middle;\n",
       "    }\n",
       "\n",
       "    .dataframe tbody tr th {\n",
       "        vertical-align: top;\n",
       "    }\n",
       "\n",
       "    .dataframe thead th {\n",
       "        text-align: right;\n",
       "    }\n",
       "</style>\n",
       "<table border=\"1\" class=\"dataframe\">\n",
       "  <thead>\n",
       "    <tr style=\"text-align: right;\">\n",
       "      <th></th>\n",
       "      <th>user_id</th>\n",
       "      <th>creation_date</th>\n",
       "      <th>case</th>\n",
       "    </tr>\n",
       "  </thead>\n",
       "  <tbody>\n",
       "    <tr>\n",
       "      <th>0</th>\n",
       "      <td>1</td>\n",
       "      <td>2008-07-31 23:41:00</td>\n",
       "      <td>None</td>\n",
       "    </tr>\n",
       "    <tr>\n",
       "      <th>1</th>\n",
       "      <td>1</td>\n",
       "      <td>2008-07-31 23:55:38</td>\n",
       "      <td>None</td>\n",
       "    </tr>\n",
       "    <tr>\n",
       "      <th>2</th>\n",
       "      <td>1</td>\n",
       "      <td>2008-07-31 23:56:41</td>\n",
       "      <td>July</td>\n",
       "    </tr>\n",
       "    <tr>\n",
       "      <th>3</th>\n",
       "      <td>1</td>\n",
       "      <td>2008-08-04 02:45:08</td>\n",
       "      <td>July</td>\n",
       "    </tr>\n",
       "    <tr>\n",
       "      <th>4</th>\n",
       "      <td>1</td>\n",
       "      <td>2008-08-04 04:31:03</td>\n",
       "      <td>July</td>\n",
       "    </tr>\n",
       "    <tr>\n",
       "      <th>...</th>\n",
       "      <td>...</td>\n",
       "      <td>...</td>\n",
       "      <td>...</td>\n",
       "    </tr>\n",
       "    <tr>\n",
       "      <th>243791</th>\n",
       "      <td>5696608</td>\n",
       "      <td>2008-12-23 16:00:37</td>\n",
       "      <td>December</td>\n",
       "    </tr>\n",
       "    <tr>\n",
       "      <th>243792</th>\n",
       "      <td>5696608</td>\n",
       "      <td>2008-12-23 17:35:09</td>\n",
       "      <td>December</td>\n",
       "    </tr>\n",
       "    <tr>\n",
       "      <th>243793</th>\n",
       "      <td>5696608</td>\n",
       "      <td>2008-12-24 01:02:48</td>\n",
       "      <td>December</td>\n",
       "    </tr>\n",
       "    <tr>\n",
       "      <th>243794</th>\n",
       "      <td>5696608</td>\n",
       "      <td>2008-12-30 14:34:45</td>\n",
       "      <td>December</td>\n",
       "    </tr>\n",
       "    <tr>\n",
       "      <th>243795</th>\n",
       "      <td>5696608</td>\n",
       "      <td>2008-12-30 16:32:12</td>\n",
       "      <td>December</td>\n",
       "    </tr>\n",
       "  </tbody>\n",
       "</table>\n",
       "<p>243796 rows × 3 columns</p>\n",
       "</div>"
      ],
      "text/plain": [
       "        user_id       creation_date      case\n",
       "0             1 2008-07-31 23:41:00      None\n",
       "1             1 2008-07-31 23:55:38      None\n",
       "2             1 2008-07-31 23:56:41      July\n",
       "3             1 2008-08-04 02:45:08      July\n",
       "4             1 2008-08-04 04:31:03      July\n",
       "...         ...                 ...       ...\n",
       "243791  5696608 2008-12-23 16:00:37  December\n",
       "243792  5696608 2008-12-23 17:35:09  December\n",
       "243793  5696608 2008-12-24 01:02:48  December\n",
       "243794  5696608 2008-12-30 14:34:45  December\n",
       "243795  5696608 2008-12-30 16:32:12  December\n",
       "\n",
       "[243796 rows x 3 columns]"
      ]
     },
     "execution_count": 13,
     "metadata": {},
     "output_type": "execute_result"
    }
   ],
   "source": [
    "# напишите запрос\n",
    "query = '''\n",
    "WITH session AS\n",
    "    (SELECT user_id,\n",
    "            creation_date,\n",
    "            LAG (creation_date, 2) OVER (PARTITION BY user_id ORDER BY creation_date) AS last_post\n",
    "     FROM stackoverflow.posts\n",
    "     ORDER BY user_id,\n",
    "           creation_date)     \n",
    "SELECT user_id,\n",
    "       creation_date, \n",
    "       CASE\n",
    "           WHEN EXTRACT(MONTH FROM last_post) = 7.0 THEN 'July'\n",
    "           WHEN EXTRACT(MONTH FROM last_post) = 8.0 THEN 'August'\n",
    "           WHEN EXTRACT(MONTH FROM last_post) = 9.0 THEN 'September'\n",
    "           WHEN EXTRACT(MONTH FROM last_post) = 10.0 THEN 'October'\n",
    "           WHEN EXTRACT(MONTH FROM last_post) = 11.0 THEN 'November'\n",
    "           WHEN EXTRACT(MONTH FROM last_post) = 12.0 THEN 'December'\n",
    "       END\n",
    "FROM session; \n",
    "      \n",
    "'''\n",
    "# выполните запрос\n",
    "sample_df_7 = pd.read_sql_query(query, con=engine) \n",
    "sample_df_7"
   ]
  },
  {
   "cell_type": "markdown",
   "metadata": {
    "id": "tf9qq2yzDWK_"
   },
   "source": [
    "# Задание 8"
   ]
  },
  {
   "cell_type": "markdown",
   "metadata": {
    "id": "gfwLVXBYDWLA"
   },
   "source": [
    "Рассчитайте аналог Retention Rate по месяцам для пользователей StackOverflow. Объедините пользователей в когорты по месяцу их первого поста. Возвращение определяйте по наличию поста в текущем месяце. "
   ]
  },
  {
   "cell_type": "markdown",
   "metadata": {
    "id": "kN2ic39WlKpl"
   },
   "source": [
    "| cohort_dt | session_date | users_cnt | cohort_users_cnt | retention_rate |\n",
    "| --- | --- | --- | --- | --- |\n",
    "| 2008-07-01 00:00:00 | 2008-07-01 00:00:00 | 3 | 3 | 100 |\n",
    "| 2008-07-01 00:00:00 | 2008-08-01 00:00:00 | 2 | 3 | 66,67 |\n",
    "| 2008-07-01 00:00:00 | 2008-09-01 00:00:00 | 1 | 3 | 33,33 |\n",
    "| 2008-07-01 00:00:00 | 2008-10-01 00:00:00 | 2 | 3 | 66,67 |\n",
    "| 2008-07-01 00:00:00 | 2008-11-01 00:00:00 | 1 | 3 | 33,33 |\n",
    "| 2008-07-01 00:00:00 | 2008-12-01 00:00:00 | 2 | 3 | 66,67 |\n",
    "| 2008-08-01 00:00:00 | 2008-08-01 00:00:00 | 2151 | 2151 | 100 |\n",
    "| ... | ... | ... | ... | ... |"
   ]
  },
  {
   "cell_type": "code",
   "execution_count": 14,
   "metadata": {
    "id": "LUgFmwmTDWLB"
   },
   "outputs": [
    {
     "data": {
      "text/html": [
       "<div>\n",
       "<style scoped>\n",
       "    .dataframe tbody tr th:only-of-type {\n",
       "        vertical-align: middle;\n",
       "    }\n",
       "\n",
       "    .dataframe tbody tr th {\n",
       "        vertical-align: top;\n",
       "    }\n",
       "\n",
       "    .dataframe thead th {\n",
       "        text-align: right;\n",
       "    }\n",
       "</style>\n",
       "<table border=\"1\" class=\"dataframe\">\n",
       "  <thead>\n",
       "    <tr style=\"text-align: right;\">\n",
       "      <th></th>\n",
       "      <th>cohort_dt</th>\n",
       "      <th>session_date</th>\n",
       "      <th>user_cnt</th>\n",
       "      <th>cohort_users_cnt</th>\n",
       "      <th>retantion_rate</th>\n",
       "    </tr>\n",
       "  </thead>\n",
       "  <tbody>\n",
       "    <tr>\n",
       "      <th>0</th>\n",
       "      <td>2008-07-01</td>\n",
       "      <td>2008-07-01</td>\n",
       "      <td>3</td>\n",
       "      <td>3</td>\n",
       "      <td>100.00</td>\n",
       "    </tr>\n",
       "    <tr>\n",
       "      <th>1</th>\n",
       "      <td>2008-07-01</td>\n",
       "      <td>2008-08-01</td>\n",
       "      <td>2</td>\n",
       "      <td>3</td>\n",
       "      <td>66.67</td>\n",
       "    </tr>\n",
       "    <tr>\n",
       "      <th>2</th>\n",
       "      <td>2008-07-01</td>\n",
       "      <td>2008-09-01</td>\n",
       "      <td>1</td>\n",
       "      <td>3</td>\n",
       "      <td>33.33</td>\n",
       "    </tr>\n",
       "    <tr>\n",
       "      <th>3</th>\n",
       "      <td>2008-07-01</td>\n",
       "      <td>2008-10-01</td>\n",
       "      <td>2</td>\n",
       "      <td>3</td>\n",
       "      <td>66.67</td>\n",
       "    </tr>\n",
       "    <tr>\n",
       "      <th>4</th>\n",
       "      <td>2008-07-01</td>\n",
       "      <td>2008-11-01</td>\n",
       "      <td>1</td>\n",
       "      <td>3</td>\n",
       "      <td>33.33</td>\n",
       "    </tr>\n",
       "    <tr>\n",
       "      <th>5</th>\n",
       "      <td>2008-07-01</td>\n",
       "      <td>2008-12-01</td>\n",
       "      <td>2</td>\n",
       "      <td>3</td>\n",
       "      <td>66.67</td>\n",
       "    </tr>\n",
       "    <tr>\n",
       "      <th>6</th>\n",
       "      <td>2008-08-01</td>\n",
       "      <td>2008-08-01</td>\n",
       "      <td>2151</td>\n",
       "      <td>2151</td>\n",
       "      <td>100.00</td>\n",
       "    </tr>\n",
       "    <tr>\n",
       "      <th>7</th>\n",
       "      <td>2008-08-01</td>\n",
       "      <td>2008-09-01</td>\n",
       "      <td>1571</td>\n",
       "      <td>2151</td>\n",
       "      <td>73.04</td>\n",
       "    </tr>\n",
       "    <tr>\n",
       "      <th>8</th>\n",
       "      <td>2008-08-01</td>\n",
       "      <td>2008-10-01</td>\n",
       "      <td>1275</td>\n",
       "      <td>2151</td>\n",
       "      <td>59.27</td>\n",
       "    </tr>\n",
       "    <tr>\n",
       "      <th>9</th>\n",
       "      <td>2008-08-01</td>\n",
       "      <td>2008-11-01</td>\n",
       "      <td>1050</td>\n",
       "      <td>2151</td>\n",
       "      <td>48.81</td>\n",
       "    </tr>\n",
       "    <tr>\n",
       "      <th>10</th>\n",
       "      <td>2008-08-01</td>\n",
       "      <td>2008-12-01</td>\n",
       "      <td>894</td>\n",
       "      <td>2151</td>\n",
       "      <td>41.56</td>\n",
       "    </tr>\n",
       "    <tr>\n",
       "      <th>11</th>\n",
       "      <td>2008-09-01</td>\n",
       "      <td>2008-09-01</td>\n",
       "      <td>7678</td>\n",
       "      <td>7678</td>\n",
       "      <td>100.00</td>\n",
       "    </tr>\n",
       "    <tr>\n",
       "      <th>12</th>\n",
       "      <td>2008-09-01</td>\n",
       "      <td>2008-10-01</td>\n",
       "      <td>4132</td>\n",
       "      <td>7678</td>\n",
       "      <td>53.82</td>\n",
       "    </tr>\n",
       "    <tr>\n",
       "      <th>13</th>\n",
       "      <td>2008-09-01</td>\n",
       "      <td>2008-11-01</td>\n",
       "      <td>2966</td>\n",
       "      <td>7678</td>\n",
       "      <td>38.63</td>\n",
       "    </tr>\n",
       "    <tr>\n",
       "      <th>14</th>\n",
       "      <td>2008-09-01</td>\n",
       "      <td>2008-12-01</td>\n",
       "      <td>2500</td>\n",
       "      <td>7678</td>\n",
       "      <td>32.56</td>\n",
       "    </tr>\n",
       "    <tr>\n",
       "      <th>15</th>\n",
       "      <td>2008-10-01</td>\n",
       "      <td>2008-10-01</td>\n",
       "      <td>3629</td>\n",
       "      <td>3629</td>\n",
       "      <td>100.00</td>\n",
       "    </tr>\n",
       "    <tr>\n",
       "      <th>16</th>\n",
       "      <td>2008-10-01</td>\n",
       "      <td>2008-11-01</td>\n",
       "      <td>1640</td>\n",
       "      <td>3629</td>\n",
       "      <td>45.19</td>\n",
       "    </tr>\n",
       "    <tr>\n",
       "      <th>17</th>\n",
       "      <td>2008-10-01</td>\n",
       "      <td>2008-12-01</td>\n",
       "      <td>1221</td>\n",
       "      <td>3629</td>\n",
       "      <td>33.65</td>\n",
       "    </tr>\n",
       "    <tr>\n",
       "      <th>18</th>\n",
       "      <td>2008-11-01</td>\n",
       "      <td>2008-11-01</td>\n",
       "      <td>2852</td>\n",
       "      <td>2852</td>\n",
       "      <td>100.00</td>\n",
       "    </tr>\n",
       "    <tr>\n",
       "      <th>19</th>\n",
       "      <td>2008-11-01</td>\n",
       "      <td>2008-12-01</td>\n",
       "      <td>1151</td>\n",
       "      <td>2852</td>\n",
       "      <td>40.36</td>\n",
       "    </tr>\n",
       "    <tr>\n",
       "      <th>20</th>\n",
       "      <td>2008-12-01</td>\n",
       "      <td>2008-12-01</td>\n",
       "      <td>2536</td>\n",
       "      <td>2536</td>\n",
       "      <td>100.00</td>\n",
       "    </tr>\n",
       "  </tbody>\n",
       "</table>\n",
       "</div>"
      ],
      "text/plain": [
       "    cohort_dt session_date  user_cnt  cohort_users_cnt  retantion_rate\n",
       "0  2008-07-01   2008-07-01         3                 3          100.00\n",
       "1  2008-07-01   2008-08-01         2                 3           66.67\n",
       "2  2008-07-01   2008-09-01         1                 3           33.33\n",
       "3  2008-07-01   2008-10-01         2                 3           66.67\n",
       "4  2008-07-01   2008-11-01         1                 3           33.33\n",
       "5  2008-07-01   2008-12-01         2                 3           66.67\n",
       "6  2008-08-01   2008-08-01      2151              2151          100.00\n",
       "7  2008-08-01   2008-09-01      1571              2151           73.04\n",
       "8  2008-08-01   2008-10-01      1275              2151           59.27\n",
       "9  2008-08-01   2008-11-01      1050              2151           48.81\n",
       "10 2008-08-01   2008-12-01       894              2151           41.56\n",
       "11 2008-09-01   2008-09-01      7678              7678          100.00\n",
       "12 2008-09-01   2008-10-01      4132              7678           53.82\n",
       "13 2008-09-01   2008-11-01      2966              7678           38.63\n",
       "14 2008-09-01   2008-12-01      2500              7678           32.56\n",
       "15 2008-10-01   2008-10-01      3629              3629          100.00\n",
       "16 2008-10-01   2008-11-01      1640              3629           45.19\n",
       "17 2008-10-01   2008-12-01      1221              3629           33.65\n",
       "18 2008-11-01   2008-11-01      2852              2852          100.00\n",
       "19 2008-11-01   2008-12-01      1151              2852           40.36\n",
       "20 2008-12-01   2008-12-01      2536              2536          100.00"
      ]
     },
     "execution_count": 14,
     "metadata": {},
     "output_type": "execute_result"
    }
   ],
   "source": [
    "# напишите запрос \n",
    "query = '''\n",
    "WITH p AS\n",
    "       (SELECT DISTINCT user_id,\n",
    "               FIRST_VALUE (DATE_TRUNC('month', creation_date)) OVER (PARTITION BY user_id ORDER BY DATE_TRUNC('month',creation_date)) AS cohort_dt \n",
    "        FROM stackoverflow.posts),\n",
    "        \n",
    "profile AS\n",
    "     (SELECT *,\n",
    "             COUNT(user_id) OVER (PARTITION BY cohort_dt) AS cohort_users_cnt\n",
    "      FROM p),\n",
    "      \n",
    "sessions AS \n",
    "        (SELECT user_id,\n",
    "         DATE_TRUNC('month', creation_date) AS session_date\n",
    "         FROM stackoverflow.posts\n",
    "         GROUP BY user_id,\n",
    "                  session_date) \n",
    "                  \n",
    "SELECT  pr.cohort_dt,\n",
    "        s.session_date,\n",
    "        COUNT(pr.user_id) AS user_cnt,\n",
    "        pr.cohort_users_cnt,\n",
    "        ROUND(COUNT(pr.user_id)::numeric*100/pr.cohort_users_cnt, 2) AS retantion_rate\n",
    "FROM profile AS pr\n",
    "INNER JOIN sessions AS s ON pr.user_id = s.user_id\n",
    "GROUP BY 1,\n",
    "         2, \n",
    "         4 \n",
    "ORDER BY cohort_dt,\n",
    "         session_date; \n",
    "'''\n",
    "\n",
    "# выполните запрос\n",
    "\n",
    "sample_df_8 = pd.read_sql_query(query, con=engine) \n",
    "sample_df_8"
   ]
  },
  {
   "cell_type": "markdown",
   "metadata": {
    "id": "_msBtnb2DWLC"
   },
   "source": [
    "Постройте тепловую карту Retention Rate. Какие аномалии или другие необычные явления удалось выявить? Сформулируйте гипотезы о возможных причинах."
   ]
  },
  {
   "cell_type": "code",
   "execution_count": 16,
   "metadata": {
    "id": "qAEJc8H1DWLC"
   },
   "outputs": [
    {
     "data": {
      "image/png": "[encoded data removed]",
      "text/plain": [
       "<Figure size 720x720 with 2 Axes>"
      ]
     },
     "metadata": {
      "needs_background": "light"
     },
     "output_type": "display_data"
    }
   ],
   "source": [
    "retention = sample_df_8.pivot('cohort_dt', 'session_date', 'retantion_rate')\n",
    "retention.index = [str(x) [0:10] for x in retention.index]\n",
    "retention.columns = [str(x) [0:10] for x in retention.columns]\n",
    "plt.figure (figsize=(10,10))\n",
    "sns.heatmap(retention, annot=True, fmt='')\n",
    "plt.title('Тепловая карта процента возвращения пользователей, зарегестрировавшихся в отпределенном месяце, в последующие месяца')\n",
    "plt.xlabel('Месяца активности')\n",
    "plt.ylabel('Когорты')\n",
    "plt.show()"
   ]
  },
  {
   "cell_type": "markdown",
   "metadata": {
    "id": "EgOfIsI4DWLC"
   },
   "source": [
    "**Вывод:** Во всех когортах кроме первой наблюдается одинаковая тенденция  -  от месяца к месяцу процент пользователей, вернувшихся с постами падает. Аналогичная ситуация наблюдается и по когортам, пользолватели каждой последующей когорты реже возвращаются. В первой кагорте наблюдается нехарактерная тенденция значения чередуются 66 и 33 %, на мой взгляд это обусловлено малочисленностью данной группы, она состоит из 3 пользователей. Если возвращается один пользователь, то это дает 33%, а если 2 до 60%. "
   ]
  },
  {
   "cell_type": "markdown",
   "metadata": {
    "id": "1k7oPWt5DWLK"
   },
   "source": [
    "# Задание 9\n"
   ]
  },
  {
   "cell_type": "markdown",
   "metadata": {
    "id": "ALsYVSyRDWLM"
   },
   "source": [
    "На сколько процентов менялось количество постов ежемесячно с 1 сентября по 31 декабря 2008 года? Отобразите таблицу со следующими полями:\n",
    "\n",
    "- номер месяца;\n",
    "- количество постов за месяц;\n",
    "- процент, который показывает, насколько изменилось количество постов в текущем месяце по сравнению с предыдущим.\n",
    "\n",
    "Если постов стало меньше, значение процента должно быть отрицательным, если больше — положительным. Округлите значение процента до двух знаков после запятой.\n",
    "\n",
    "Напомним, что при делении одного целого числа на другое в PostgreSQL в результате получится целое число, округлённое до ближайшего целого вниз. Чтобы этого избежать, переведите делимое в тип `numeric`."
   ]
  },
  {
   "cell_type": "markdown",
   "metadata": {
    "id": "u4E2zF8DDWLM"
   },
   "source": [
    "| creation_month | posts_count | percentage |\n",
    "| -------------- | ----------- | ---------- |\n",
    "| 9 | 70731 | Nan |\n",
    "| 10 | 63102 | -10.33 |\n",
    "| ... | ... | ... |"
   ]
  },
  {
   "cell_type": "code",
   "execution_count": 17,
   "metadata": {
    "id": "Mb5pShStDWLN"
   },
   "outputs": [
    {
     "data": {
      "text/html": [
       "<div>\n",
       "<style scoped>\n",
       "    .dataframe tbody tr th:only-of-type {\n",
       "        vertical-align: middle;\n",
       "    }\n",
       "\n",
       "    .dataframe tbody tr th {\n",
       "        vertical-align: top;\n",
       "    }\n",
       "\n",
       "    .dataframe thead th {\n",
       "        text-align: right;\n",
       "    }\n",
       "</style>\n",
       "<table border=\"1\" class=\"dataframe\">\n",
       "  <thead>\n",
       "    <tr style=\"text-align: right;\">\n",
       "      <th></th>\n",
       "      <th>creation_month</th>\n",
       "      <th>count</th>\n",
       "      <th>round</th>\n",
       "    </tr>\n",
       "  </thead>\n",
       "  <tbody>\n",
       "    <tr>\n",
       "      <th>0</th>\n",
       "      <td>9</td>\n",
       "      <td>70371</td>\n",
       "      <td>NaN</td>\n",
       "    </tr>\n",
       "    <tr>\n",
       "      <th>1</th>\n",
       "      <td>10</td>\n",
       "      <td>63102</td>\n",
       "      <td>-10.33</td>\n",
       "    </tr>\n",
       "    <tr>\n",
       "      <th>2</th>\n",
       "      <td>11</td>\n",
       "      <td>46975</td>\n",
       "      <td>-25.56</td>\n",
       "    </tr>\n",
       "    <tr>\n",
       "      <th>3</th>\n",
       "      <td>12</td>\n",
       "      <td>44592</td>\n",
       "      <td>-5.07</td>\n",
       "    </tr>\n",
       "  </tbody>\n",
       "</table>\n",
       "</div>"
      ],
      "text/plain": [
       "   creation_month  count  round\n",
       "0               9  70371    NaN\n",
       "1              10  63102 -10.33\n",
       "2              11  46975 -25.56\n",
       "3              12  44592  -5.07"
      ]
     },
     "execution_count": 17,
     "metadata": {},
     "output_type": "execute_result"
    }
   ],
   "source": [
    "# напишите запрос\n",
    "query = '''\n",
    "WITH session AS\n",
    "             (SELECT  CAST(EXTRACT(MONTH FROM creation_date) AS int) AS creation_month,\n",
    "                      COUNT(id) AS count\n",
    "              FROM stackoverflow.posts\n",
    "              WHERE CAST(EXTRACT(MONTH FROM creation_date) AS int) BETWEEN 9 AND 12\n",
    "              GROUP BY creation_month)\n",
    "\n",
    "SELECT *,\n",
    "       ROUND((count::numeric/LAG(count) OVER()-1)*100, 2)\n",
    "FROM session       \n",
    "'''\n",
    "\n",
    "# выполните запрос\n",
    "sample_df_9 = pd.read_sql_query(query, con=engine) \n",
    "sample_df_9"
   ]
  },
  {
   "cell_type": "markdown",
   "metadata": {
    "id": "9NQE2y_MDWLP"
   },
   "source": [
    "Постройте круговую диаграмму с количеством постов по месяцам."
   ]
  },
  {
   "cell_type": "code",
   "execution_count": 18,
   "metadata": {
    "id": "377ABjiVDWLP"
   },
   "outputs": [
    {
     "data": {
      "image/png": "[encoded data removed]",
      "text/plain": [
       "<Figure size 432x288 with 1 Axes>"
      ]
     },
     "metadata": {},
     "output_type": "display_data"
    }
   ],
   "source": [
    "lables = ['Сентябрь', 'Октябрь', 'Ноябрь', 'Декабрь'] \n",
    "colors = sns.color_palette('pastel')[ 0:5 ]\n",
    "plt.pie(x=sample_df_9['count'], labels=lables, colors=colors, autopct='%.0f%%' )\n",
    "plt.title('Количество постов по месяца')\n",
    "plt.show()"
   ]
  },
  {
   "cell_type": "markdown",
   "metadata": {
    "id": "uw7qMtafDWLP"
   },
   "source": [
    "# Задание 10"
   ]
  },
  {
   "cell_type": "markdown",
   "metadata": {
    "id": "oRBpWKx3DWLQ"
   },
   "source": [
    "Выгрузите данные активности пользователя, который опубликовал больше всего постов за всё время. Выведите данные за октябрь 2008 года в таком виде:\n",
    "\n",
    "- номер недели;\n",
    "- дата и время последнего поста, опубликованного на этой неделе."
   ]
  },
  {
   "cell_type": "markdown",
   "metadata": {
    "id": "XjAWSn_3DWLQ"
   },
   "source": [
    "| week_creation | creation_date |\n",
    "| ------------- | ------------- |\n",
    "| 40 | 2008-10-05 09:00:58 |\n",
    "| 41 | 2008-10-12 21:22:23 |\n",
    "| ... | ... |"
   ]
  },
  {
   "cell_type": "code",
   "execution_count": 19,
   "metadata": {
    "id": "r5F5fSkwDWLQ"
   },
   "outputs": [
    {
     "data": {
      "text/html": [
       "<style  type=\"text/css\" >\n",
       "</style><table id=\"T_3e5a9_\" ><thead>    <tr>        <th class=\"col_heading level0 col0\" >week_creation</th>        <th class=\"col_heading level0 col1\" >last_value</th>    </tr></thead><tbody>\n",
       "                <tr>\n",
       "                                <td id=\"T_3e5a9_row0_col0\" class=\"data row0 col0\" >40</td>\n",
       "                        <td id=\"T_3e5a9_row0_col1\" class=\"data row0 col1\" >2008-10-05 09:00:58</td>\n",
       "            </tr>\n",
       "            <tr>\n",
       "                                <td id=\"T_3e5a9_row1_col0\" class=\"data row1 col0\" >41</td>\n",
       "                        <td id=\"T_3e5a9_row1_col1\" class=\"data row1 col1\" >2008-10-12 21:22:23</td>\n",
       "            </tr>\n",
       "            <tr>\n",
       "                                <td id=\"T_3e5a9_row2_col0\" class=\"data row2 col0\" >42</td>\n",
       "                        <td id=\"T_3e5a9_row2_col1\" class=\"data row2 col1\" >2008-10-19 06:49:30</td>\n",
       "            </tr>\n",
       "            <tr>\n",
       "                                <td id=\"T_3e5a9_row3_col0\" class=\"data row3 col0\" >43</td>\n",
       "                        <td id=\"T_3e5a9_row3_col1\" class=\"data row3 col1\" >2008-10-26 21:44:36</td>\n",
       "            </tr>\n",
       "            <tr>\n",
       "                                <td id=\"T_3e5a9_row4_col0\" class=\"data row4 col0\" >44</td>\n",
       "                        <td id=\"T_3e5a9_row4_col1\" class=\"data row4 col1\" >2008-10-31 22:16:01</td>\n",
       "            </tr>\n",
       "    </tbody></table>"
      ],
      "text/plain": [
       "<pandas.io.formats.style.Styler at 0x7fe7f8c2cc40>"
      ]
     },
     "execution_count": 19,
     "metadata": {},
     "output_type": "execute_result"
    }
   ],
   "source": [
    "# напишите запрос\n",
    "query = '''\n",
    "WITH users AS\n",
    "          (SELECT user_id\n",
    "           FROM stackoverflow.posts\n",
    "           GROUP BY user_id\n",
    "           ORDER BY COUNT(id) DESC\n",
    "           LIMIT 1),\n",
    "\n",
    "session AS\n",
    "        (SELECT EXTRACT(WEEK FROM creation_date)::int AS week_creation,\n",
    "                creation_date\n",
    "         FROM stackoverflow.posts \n",
    "         WHERE DATE_TRUNC('month', creation_date)::date = '2008-10-01' AND user_id IN (SELECT user_id\n",
    "                                                                                       FROM users))\n",
    "SELECT DISTINCT week_creation,\n",
    "       LAST_VALUE(creation_date) OVER (PARTITION BY week_creation ORDER BY creation_date ROWS BETWEEN CURRENT ROW AND UNBOUNDED FOLLOWING)\n",
    "FROM session;           \n",
    "        \n",
    "           \n",
    "'''\n",
    "\n",
    "# выполните запрос\n",
    "sample_df_10 = pd.read_sql_query(query, con=engine) \n",
    "sample_df_10.style.hide_index()"
   ]
  }
 ],
 "metadata": {
  "ExecuteTimeLog": [
   {
    "duration": 891,
    "start_time": "2023-10-26T11:05:45.121Z"
   },
   {
    "duration": 3,
    "start_time": "2023-10-26T11:05:49.502Z"
   },
   {
    "duration": 3,
    "start_time": "2023-10-26T11:06:05.136Z"
   },
   {
    "duration": 218,
    "start_time": "2023-10-26T11:06:08.498Z"
   },
   {
    "duration": 14,
    "start_time": "2023-10-26T11:06:14.291Z"
   },
   {
    "duration": 105,
    "start_time": "2023-10-26T11:12:47.376Z"
   },
   {
    "duration": 927,
    "start_time": "2023-10-26T11:16:26.543Z"
   },
   {
    "duration": 105,
    "start_time": "2023-10-26T11:16:43.812Z"
   },
   {
    "duration": 201,
    "start_time": "2023-10-26T11:54:56.500Z"
   },
   {
    "duration": 65,
    "start_time": "2023-10-26T11:55:29.668Z"
   },
   {
    "duration": 62,
    "start_time": "2023-10-26T11:56:20.830Z"
   },
   {
    "duration": 347,
    "start_time": "2023-10-26T11:57:15.942Z"
   },
   {
    "duration": 60,
    "start_time": "2023-10-26T11:58:39.989Z"
   },
   {
    "duration": 65,
    "start_time": "2023-10-26T12:01:21.271Z"
   },
   {
    "duration": 61,
    "start_time": "2023-10-26T12:01:32.880Z"
   },
   {
    "duration": 62,
    "start_time": "2023-10-26T12:02:39.010Z"
   },
   {
    "duration": 64,
    "start_time": "2023-10-26T12:04:37.194Z"
   },
   {
    "duration": 172,
    "start_time": "2023-10-26T12:06:08.688Z"
   },
   {
    "duration": 62,
    "start_time": "2023-10-26T12:07:27.114Z"
   },
   {
    "duration": 62,
    "start_time": "2023-10-26T12:08:03.651Z"
   },
   {
    "duration": 167,
    "start_time": "2023-10-26T12:10:09.286Z"
   },
   {
    "duration": 172,
    "start_time": "2023-10-26T12:10:24.955Z"
   },
   {
    "duration": 11,
    "start_time": "2023-10-26T12:12:07.835Z"
   },
   {
    "duration": 6,
    "start_time": "2023-10-26T12:12:14.646Z"
   },
   {
    "duration": 167,
    "start_time": "2023-10-26T12:16:57.342Z"
   },
   {
    "duration": 6,
    "start_time": "2023-10-26T12:17:02.317Z"
   },
   {
    "duration": 169,
    "start_time": "2023-10-26T12:17:43.790Z"
   },
   {
    "duration": 5,
    "start_time": "2023-10-26T12:17:47.732Z"
   },
   {
    "duration": 4,
    "start_time": "2023-10-26T12:32:24.783Z"
   },
   {
    "duration": 164,
    "start_time": "2023-10-26T12:32:49.846Z"
   },
   {
    "duration": 139,
    "start_time": "2023-10-26T12:33:16.649Z"
   },
   {
    "duration": 195,
    "start_time": "2023-10-26T12:33:41.190Z"
   },
   {
    "duration": 131,
    "start_time": "2023-10-26T12:41:12.397Z"
   },
   {
    "duration": 174,
    "start_time": "2023-10-26T12:41:41.685Z"
   },
   {
    "duration": 119,
    "start_time": "2023-10-26T12:42:28.123Z"
   },
   {
    "duration": 1277,
    "start_time": "2023-10-26T13:31:30.542Z"
   },
   {
    "duration": 1416,
    "start_time": "2023-10-26T13:32:00.698Z"
   },
   {
    "duration": 144,
    "start_time": "2023-10-26T13:48:34.050Z"
   },
   {
    "duration": 132,
    "start_time": "2023-10-26T13:57:36.186Z"
   },
   {
    "duration": 137,
    "start_time": "2023-10-26T13:57:50.819Z"
   },
   {
    "duration": 203,
    "start_time": "2023-10-26T13:58:24.585Z"
   },
   {
    "duration": 157,
    "start_time": "2023-10-26T13:59:01.300Z"
   },
   {
    "duration": 114,
    "start_time": "2023-10-26T14:00:11.869Z"
   },
   {
    "duration": 168,
    "start_time": "2023-10-26T14:01:25.443Z"
   },
   {
    "duration": 134,
    "start_time": "2023-10-26T14:02:04.382Z"
   },
   {
    "duration": 136,
    "start_time": "2023-10-26T14:02:09.139Z"
   },
   {
    "duration": 118,
    "start_time": "2023-10-26T14:02:35.786Z"
   },
   {
    "duration": 176,
    "start_time": "2023-10-26T14:10:15.889Z"
   },
   {
    "duration": 101,
    "start_time": "2023-10-26T14:10:55.374Z"
   },
   {
    "duration": 113,
    "start_time": "2023-10-26T14:15:19.082Z"
   },
   {
    "duration": 69,
    "start_time": "2023-10-26T14:32:40.528Z"
   },
   {
    "duration": 68,
    "start_time": "2023-10-26T14:36:23.713Z"
   },
   {
    "duration": 119,
    "start_time": "2023-10-26T14:39:26.358Z"
   },
   {
    "duration": 68,
    "start_time": "2023-10-26T14:41:21.496Z"
   },
   {
    "duration": 70,
    "start_time": "2023-10-26T14:42:54.896Z"
   },
   {
    "duration": 68,
    "start_time": "2023-10-26T14:45:57.039Z"
   },
   {
    "duration": 9,
    "start_time": "2023-10-26T14:48:15.097Z"
   },
   {
    "duration": 7,
    "start_time": "2023-10-26T14:48:28.033Z"
   },
   {
    "duration": 110,
    "start_time": "2023-10-26T14:49:22.524Z"
   },
   {
    "duration": 67,
    "start_time": "2023-10-26T14:51:53.162Z"
   },
   {
    "duration": 69,
    "start_time": "2023-10-26T15:05:12.162Z"
   },
   {
    "duration": 1045,
    "start_time": "2023-10-26T15:19:44.114Z"
   },
   {
    "duration": 1269,
    "start_time": "2023-10-26T15:21:58.033Z"
   },
   {
    "duration": 1222,
    "start_time": "2023-10-26T15:22:18.903Z"
   },
   {
    "duration": 1254,
    "start_time": "2023-10-26T15:28:41.968Z"
   },
   {
    "duration": 1402,
    "start_time": "2023-10-26T15:29:58.135Z"
   },
   {
    "duration": 1237,
    "start_time": "2023-10-26T15:34:29.322Z"
   },
   {
    "duration": 1201,
    "start_time": "2023-10-26T15:35:41.162Z"
   },
   {
    "duration": 363,
    "start_time": "2023-10-26T16:23:22.210Z"
   },
   {
    "duration": 993,
    "start_time": "2023-10-26T16:23:56.045Z"
   },
   {
    "duration": 267,
    "start_time": "2023-10-26T16:24:42.619Z"
   },
   {
    "duration": 7,
    "start_time": "2023-10-26T16:25:34.278Z"
   },
   {
    "duration": 135,
    "start_time": "2023-10-26T16:37:49.140Z"
   },
   {
    "duration": 129,
    "start_time": "2023-10-26T16:39:25.253Z"
   },
   {
    "duration": 152,
    "start_time": "2023-10-26T16:39:42.700Z"
   },
   {
    "duration": 148,
    "start_time": "2023-10-26T16:40:18.133Z"
   },
   {
    "duration": 929,
    "start_time": "2023-10-26T16:40:28.866Z"
   },
   {
    "duration": 582,
    "start_time": "2023-10-26T16:47:46.983Z"
   },
   {
    "duration": 2938,
    "start_time": "2023-10-26T16:49:33.250Z"
   },
   {
    "duration": 136,
    "start_time": "2023-10-26T16:51:32.065Z"
   },
   {
    "duration": 240,
    "start_time": "2023-10-26T16:52:09.071Z"
   },
   {
    "duration": 571,
    "start_time": "2023-10-26T16:52:19.066Z"
   },
   {
    "duration": 560,
    "start_time": "2023-10-26T16:53:41.779Z"
   },
   {
    "duration": 21,
    "start_time": "2023-10-26T16:58:00.556Z"
   },
   {
    "duration": 17,
    "start_time": "2023-10-26T17:07:38.053Z"
   },
   {
    "duration": 532,
    "start_time": "2023-10-26T17:08:16.880Z"
   },
   {
    "duration": 638,
    "start_time": "2023-10-26T17:08:25.855Z"
   },
   {
    "duration": 402,
    "start_time": "2023-10-26T17:08:49.218Z"
   },
   {
    "duration": 473,
    "start_time": "2023-10-26T17:10:15.925Z"
   },
   {
    "duration": 141,
    "start_time": "2023-10-26T17:32:21.213Z"
   },
   {
    "duration": 129,
    "start_time": "2023-10-26T17:47:10.317Z"
   },
   {
    "duration": 45,
    "start_time": "2023-10-26T17:56:55.514Z"
   },
   {
    "duration": 11,
    "start_time": "2023-10-26T17:58:55.131Z"
   },
   {
    "duration": 10,
    "start_time": "2023-10-26T18:01:39.458Z"
   },
   {
    "duration": 10,
    "start_time": "2023-10-26T18:02:41.072Z"
   },
   {
    "duration": 97,
    "start_time": "2023-10-26T18:02:57.602Z"
   },
   {
    "duration": 84,
    "start_time": "2023-10-26T18:04:10.017Z"
   },
   {
    "duration": 15,
    "start_time": "2023-10-26T18:05:08.258Z"
   },
   {
    "duration": 88,
    "start_time": "2023-10-26T18:06:34.854Z"
   },
   {
    "duration": 93,
    "start_time": "2023-10-26T18:06:52.922Z"
   },
   {
    "duration": 91,
    "start_time": "2023-10-26T18:07:07.732Z"
   },
   {
    "duration": 184,
    "start_time": "2023-10-26T18:19:59.627Z"
   },
   {
    "duration": 112,
    "start_time": "2023-10-26T18:20:16.788Z"
   },
   {
    "duration": 144,
    "start_time": "2023-10-26T18:36:14.105Z"
   },
   {
    "duration": 152,
    "start_time": "2023-10-26T18:36:33.242Z"
   },
   {
    "duration": 162,
    "start_time": "2023-10-26T18:48:18.236Z"
   },
   {
    "duration": 145,
    "start_time": "2023-10-26T18:48:59.608Z"
   },
   {
    "duration": 144,
    "start_time": "2023-10-26T18:50:26.979Z"
   },
   {
    "duration": 151,
    "start_time": "2023-10-26T18:53:16.480Z"
   },
   {
    "duration": 204,
    "start_time": "2023-10-26T18:54:06.954Z"
   },
   {
    "duration": 146,
    "start_time": "2023-10-26T18:54:22.580Z"
   },
   {
    "duration": 157,
    "start_time": "2023-10-26T18:55:10.365Z"
   },
   {
    "duration": 18,
    "start_time": "2023-10-26T18:59:02.014Z"
   },
   {
    "duration": 103,
    "start_time": "2023-10-26T19:00:54.053Z"
   },
   {
    "duration": 157,
    "start_time": "2023-10-26T19:01:52.590Z"
   },
   {
    "duration": 171,
    "start_time": "2023-10-26T19:02:17.790Z"
   },
   {
    "duration": 113,
    "start_time": "2023-10-26T19:02:43.869Z"
   },
   {
    "duration": 1376,
    "start_time": "2023-10-26T19:05:34.772Z"
   },
   {
    "duration": 4,
    "start_time": "2023-10-26T19:05:36.151Z"
   },
   {
    "duration": 10141,
    "start_time": "2023-10-26T19:05:36.157Z"
   },
   {
    "duration": 221,
    "start_time": "2023-10-26T19:05:46.301Z"
   },
   {
    "duration": 17,
    "start_time": "2023-10-26T19:05:46.527Z"
   },
   {
    "duration": 144,
    "start_time": "2023-10-26T19:05:46.545Z"
   },
   {
    "duration": 169,
    "start_time": "2023-10-26T19:05:46.691Z"
   },
   {
    "duration": 5,
    "start_time": "2023-10-26T19:05:46.862Z"
   },
   {
    "duration": 125,
    "start_time": "2023-10-26T19:05:46.869Z"
   },
   {
    "duration": 58570,
    "start_time": "2023-10-26T19:05:46.995Z"
   },
   {
    "duration": 148,
    "start_time": "2023-10-26T19:06:45.567Z"
   },
   {
    "duration": 1410,
    "start_time": "2023-10-26T19:10:28.936Z"
   },
   {
    "duration": 5,
    "start_time": "2023-10-26T19:10:30.352Z"
   },
   {
    "duration": 11939,
    "start_time": "2023-10-26T19:10:30.360Z"
   },
   {
    "duration": 216,
    "start_time": "2023-10-26T19:10:42.301Z"
   },
   {
    "duration": 30,
    "start_time": "2023-10-26T19:10:42.524Z"
   },
   {
    "duration": 209,
    "start_time": "2023-10-26T19:10:42.557Z"
   },
   {
    "duration": 187,
    "start_time": "2023-10-26T19:10:42.768Z"
   },
   {
    "duration": 6,
    "start_time": "2023-10-26T19:10:42.957Z"
   },
   {
    "duration": 130,
    "start_time": "2023-10-26T19:10:42.965Z"
   },
   {
    "duration": 1467,
    "start_time": "2023-10-26T19:10:43.097Z"
   },
   {
    "duration": 110,
    "start_time": "2023-10-26T19:10:44.566Z"
   },
   {
    "duration": 68,
    "start_time": "2023-10-26T19:10:44.678Z"
   },
   {
    "duration": 49572,
    "start_time": "2023-10-26T19:10:44.748Z"
   },
   {
    "duration": 1316,
    "start_time": "2023-10-26T19:12:33.657Z"
   },
   {
    "duration": 3,
    "start_time": "2023-10-26T19:12:34.975Z"
   },
   {
    "duration": 14502,
    "start_time": "2023-10-26T19:12:34.980Z"
   },
   {
    "duration": 198,
    "start_time": "2023-10-26T19:12:49.483Z"
   },
   {
    "duration": 13,
    "start_time": "2023-10-26T19:12:49.683Z"
   },
   {
    "duration": 160,
    "start_time": "2023-10-26T19:12:49.698Z"
   },
   {
    "duration": 177,
    "start_time": "2023-10-26T19:12:49.859Z"
   },
   {
    "duration": 9,
    "start_time": "2023-10-26T19:12:50.041Z"
   },
   {
    "duration": 145,
    "start_time": "2023-10-26T19:12:50.052Z"
   },
   {
    "duration": 1453,
    "start_time": "2023-10-26T19:12:50.199Z"
   },
   {
    "duration": 108,
    "start_time": "2023-10-26T19:12:51.653Z"
   },
   {
    "duration": 73,
    "start_time": "2023-10-26T19:12:51.762Z"
   },
   {
    "duration": 1435,
    "start_time": "2023-10-26T19:12:51.837Z"
   },
   {
    "duration": 566,
    "start_time": "2023-10-26T19:12:53.275Z"
   },
   {
    "duration": 432,
    "start_time": "2023-10-26T19:12:53.843Z"
   },
   {
    "duration": 123,
    "start_time": "2023-10-26T19:12:54.277Z"
   },
   {
    "duration": 104,
    "start_time": "2023-10-26T19:12:54.401Z"
   },
   {
    "duration": 147,
    "start_time": "2023-10-26T19:12:54.509Z"
   },
   {
    "duration": 540,
    "start_time": "2023-10-26T19:14:54.951Z"
   },
   {
    "duration": 128,
    "start_time": "2023-10-26T19:15:12.317Z"
   },
   {
    "duration": 1323,
    "start_time": "2023-10-26T22:51:19.324Z"
   },
   {
    "duration": 3,
    "start_time": "2023-10-26T22:51:20.649Z"
   },
   {
    "duration": 49555,
    "start_time": "2023-10-26T22:51:20.654Z"
   },
   {
    "duration": 50,
    "start_time": "2023-10-26T22:52:10.211Z"
   },
   {
    "duration": 14,
    "start_time": "2023-10-26T22:52:10.263Z"
   },
   {
    "duration": 143,
    "start_time": "2023-10-26T22:52:10.278Z"
   },
   {
    "duration": 134,
    "start_time": "2023-10-26T22:52:10.423Z"
   },
   {
    "duration": 6,
    "start_time": "2023-10-26T22:52:10.558Z"
   },
   {
    "duration": 112,
    "start_time": "2023-10-26T22:52:10.565Z"
   },
   {
    "duration": 1251,
    "start_time": "2023-10-26T22:52:10.679Z"
   },
   {
    "duration": 79,
    "start_time": "2023-10-26T22:52:11.931Z"
   },
   {
    "duration": 33,
    "start_time": "2023-10-26T22:52:12.011Z"
   },
   {
    "duration": 1289,
    "start_time": "2023-10-26T22:52:12.046Z"
   },
   {
    "duration": 502,
    "start_time": "2023-10-26T22:52:13.336Z"
   },
   {
    "duration": 430,
    "start_time": "2023-10-26T22:52:13.839Z"
   },
   {
    "duration": 93,
    "start_time": "2023-10-26T22:52:14.271Z"
   },
   {
    "duration": 80,
    "start_time": "2023-10-26T22:52:14.366Z"
   },
   {
    "duration": 114,
    "start_time": "2023-10-26T22:52:14.448Z"
   },
   {
    "duration": 130,
    "start_time": "2023-10-26T22:52:42.451Z"
   },
   {
    "duration": 35,
    "start_time": "2023-10-26T22:55:42.837Z"
   },
   {
    "duration": 9,
    "start_time": "2023-10-26T22:57:23.447Z"
   },
   {
    "duration": 110,
    "start_time": "2023-10-26T22:58:57.776Z"
   },
   {
    "duration": 111,
    "start_time": "2023-10-26T22:58:58.464Z"
   },
   {
    "duration": 111,
    "start_time": "2023-10-26T22:58:58.983Z"
   },
   {
    "duration": 109,
    "start_time": "2023-10-26T22:58:59.472Z"
   },
   {
    "duration": 1903,
    "start_time": "2023-10-26T23:01:23.653Z"
   },
   {
    "duration": 3,
    "start_time": "2023-10-26T23:01:25.558Z"
   },
   {
    "duration": 70541,
    "start_time": "2023-10-26T23:01:25.562Z"
   },
   {
    "duration": 45,
    "start_time": "2023-10-26T23:02:36.104Z"
   },
   {
    "duration": 14,
    "start_time": "2023-10-26T23:02:36.152Z"
   },
   {
    "duration": 144,
    "start_time": "2023-10-26T23:02:36.168Z"
   },
   {
    "duration": 143,
    "start_time": "2023-10-26T23:02:36.314Z"
   },
   {
    "duration": 6,
    "start_time": "2023-10-26T23:02:36.458Z"
   },
   {
    "duration": 95,
    "start_time": "2023-10-26T23:02:36.466Z"
   },
   {
    "duration": 1284,
    "start_time": "2023-10-26T23:02:36.563Z"
   },
   {
    "duration": 81,
    "start_time": "2023-10-26T23:02:37.849Z"
   },
   {
    "duration": 37,
    "start_time": "2023-10-26T23:02:37.932Z"
   },
   {
    "duration": 1299,
    "start_time": "2023-10-26T23:02:37.970Z"
   },
   {
    "duration": 523,
    "start_time": "2023-10-26T23:02:39.271Z"
   },
   {
    "duration": 8,
    "start_time": "2023-10-26T23:02:39.795Z"
   },
   {
    "duration": 423,
    "start_time": "2023-10-26T23:02:39.805Z"
   },
   {
    "duration": 96,
    "start_time": "2023-10-26T23:02:40.230Z"
   },
   {
    "duration": 79,
    "start_time": "2023-10-26T23:02:40.328Z"
   },
   {
    "duration": 117,
    "start_time": "2023-10-26T23:02:40.408Z"
   },
   {
    "duration": 1387,
    "start_time": "2023-10-27T04:45:45.417Z"
   },
   {
    "duration": 3,
    "start_time": "2023-10-27T04:45:46.807Z"
   },
   {
    "duration": 10259,
    "start_time": "2023-10-27T04:45:46.812Z"
   },
   {
    "duration": 221,
    "start_time": "2023-10-27T04:45:57.073Z"
   },
   {
    "duration": 14,
    "start_time": "2023-10-27T04:45:57.296Z"
   },
   {
    "duration": 152,
    "start_time": "2023-10-27T04:45:57.311Z"
   },
   {
    "duration": 170,
    "start_time": "2023-10-27T04:45:57.464Z"
   },
   {
    "duration": 6,
    "start_time": "2023-10-27T04:45:57.636Z"
   },
   {
    "duration": 127,
    "start_time": "2023-10-27T04:45:57.643Z"
   },
   {
    "duration": 1235,
    "start_time": "2023-10-27T04:45:57.773Z"
   },
   {
    "duration": 110,
    "start_time": "2023-10-27T04:45:59.010Z"
   },
   {
    "duration": 65,
    "start_time": "2023-10-27T04:45:59.121Z"
   },
   {
    "duration": 1269,
    "start_time": "2023-10-27T04:45:59.187Z"
   },
   {
    "duration": 574,
    "start_time": "2023-10-27T04:46:00.458Z"
   },
   {
    "duration": 40,
    "start_time": "2023-10-27T04:46:01.033Z"
   },
   {
    "duration": 485,
    "start_time": "2023-10-27T04:46:01.074Z"
   },
   {
    "duration": 125,
    "start_time": "2023-10-27T04:46:01.561Z"
   },
   {
    "duration": 95,
    "start_time": "2023-10-27T04:46:01.688Z"
   },
   {
    "duration": 153,
    "start_time": "2023-10-27T04:46:01.785Z"
   },
   {
    "duration": 845,
    "start_time": "2023-10-27T04:51:27.709Z"
   },
   {
    "duration": 394,
    "start_time": "2023-10-27T04:51:38.720Z"
   },
   {
    "duration": 1444,
    "start_time": "2023-10-27T10:09:59.912Z"
   },
   {
    "duration": 4,
    "start_time": "2023-10-27T10:10:01.358Z"
   },
   {
    "duration": 15684,
    "start_time": "2023-10-27T10:10:01.364Z"
   },
   {
    "duration": 230,
    "start_time": "2023-10-27T10:10:17.050Z"
   },
   {
    "duration": 14,
    "start_time": "2023-10-27T10:10:17.282Z"
   },
   {
    "duration": 164,
    "start_time": "2023-10-27T10:10:17.297Z"
   },
   {
    "duration": 177,
    "start_time": "2023-10-27T10:10:17.463Z"
   },
   {
    "duration": 5,
    "start_time": "2023-10-27T10:10:17.642Z"
   },
   {
    "duration": 147,
    "start_time": "2023-10-27T10:10:17.648Z"
   },
   {
    "duration": 1284,
    "start_time": "2023-10-27T10:10:17.797Z"
   },
   {
    "duration": 111,
    "start_time": "2023-10-27T10:10:19.083Z"
   },
   {
    "duration": 68,
    "start_time": "2023-10-27T10:10:19.195Z"
   },
   {
    "duration": 1342,
    "start_time": "2023-10-27T10:10:19.264Z"
   },
   {
    "duration": 588,
    "start_time": "2023-10-27T10:10:20.608Z"
   },
   {
    "duration": 40,
    "start_time": "2023-10-27T10:10:21.197Z"
   },
   {
    "duration": 459,
    "start_time": "2023-10-27T10:10:21.239Z"
   },
   {
    "duration": 127,
    "start_time": "2023-10-27T10:10:21.699Z"
   },
   {
    "duration": 79,
    "start_time": "2023-10-27T10:10:21.828Z"
   },
   {
    "duration": 149,
    "start_time": "2023-10-27T10:10:21.908Z"
   },
   {
    "duration": 1195,
    "start_time": "2023-10-27T10:10:25.675Z"
   },
   {
    "duration": 3,
    "start_time": "2023-10-27T10:10:26.872Z"
   },
   {
    "duration": 10851,
    "start_time": "2023-10-27T10:10:26.876Z"
   },
   {
    "duration": 214,
    "start_time": "2023-10-27T10:10:37.729Z"
   },
   {
    "duration": 14,
    "start_time": "2023-10-27T10:10:37.945Z"
   },
   {
    "duration": 160,
    "start_time": "2023-10-27T10:10:37.960Z"
   },
   {
    "duration": 170,
    "start_time": "2023-10-27T10:10:38.122Z"
   },
   {
    "duration": 5,
    "start_time": "2023-10-27T10:10:38.294Z"
   },
   {
    "duration": 118,
    "start_time": "2023-10-27T10:10:38.301Z"
   },
   {
    "duration": 1275,
    "start_time": "2023-10-27T10:10:38.422Z"
   },
   {
    "duration": 110,
    "start_time": "2023-10-27T10:10:39.699Z"
   },
   {
    "duration": 68,
    "start_time": "2023-10-27T10:10:39.811Z"
   },
   {
    "duration": 1315,
    "start_time": "2023-10-27T10:10:39.880Z"
   },
   {
    "duration": 573,
    "start_time": "2023-10-27T10:10:41.197Z"
   },
   {
    "duration": 39,
    "start_time": "2023-10-27T10:10:41.771Z"
   },
   {
    "duration": 435,
    "start_time": "2023-10-27T10:10:41.811Z"
   },
   {
    "duration": 124,
    "start_time": "2023-10-27T10:10:42.248Z"
   },
   {
    "duration": 84,
    "start_time": "2023-10-27T10:10:42.373Z"
   },
   {
    "duration": 150,
    "start_time": "2023-10-27T10:10:42.458Z"
   }
  ],
  "colab": {
   "provenance": []
  },
  "kernelspec": {
   "display_name": "Python 3 (ipykernel)",
   "language": "python",
   "name": "python3"
  },
  "language_info": {
   "codemirror_mode": {
    "name": "ipython",
    "version": 3
   },
   "file_extension": ".py",
   "mimetype": "text/x-python",
   "name": "python",
   "nbconvert_exporter": "python",
   "pygments_lexer": "ipython3",
   "version": "3.9.13"
  },
  "toc": {
   "base_numbering": 1,
   "nav_menu": {},
   "number_sections": true,
   "sideBar": true,
   "skip_h1_title": true,
   "title_cell": "Table of Contents",
   "title_sidebar": "Contents",
   "toc_cell": false,
   "toc_position": {},
   "toc_section_display": true,
   "toc_window_display": false
  }
 },
 "nbformat": 4,
 "nbformat_minor": 1
}
